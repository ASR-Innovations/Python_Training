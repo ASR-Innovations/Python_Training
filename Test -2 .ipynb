{
 "cells": [
  {
   "cell_type": "markdown",
   "metadata": {},
   "source": [
    "# Test -2"
   ]
  },
  {
   "cell_type": "code",
   "execution_count": null,
   "metadata": {},
   "outputs": [],
   "source": [
    "#Q-1 Add item 7000 after 6000 in the following Python List\n",
    "# list1 = [10, 20, [300, 400, [5000, 6000], 500], 30, 40]\n",
    "#---------------------------------------------------------------\n",
    "#Q-2  Given a two Python list of length 5 each. Iterate both lists simultaneously such that list1 \n",
    "#should display item in original order and list2 in reverse order\n",
    "#---------------------------------------------------------------\n",
    "# Q-3 Given a nested list extend it with adding sub list [\"h\", \"i\", \"j\"] \n",
    "#in a such a way that it will look like the following list\n",
    "#list1 = [\"a\", \"b\", [\"c\", [\"d\", \"e\", [\"f\", \"g\"], \"k\"], \"l\"], \"m\", \"n\"]\n",
    "#Expected output:\n",
    "\n",
    "#['a', 'b', ['c', ['d', 'e', ['f', 'g', 'h', 'i', 'j'], 'k'], 'l'], 'm', 'n']\n",
    "#---------------------------------------------------------------\n",
    "#Q-4 This is a the nested lists in a list. Your task is to find the avg marks of each student\n",
    "#then append their avg marks in the respective nested list, and sort the list in reverse order on the basis of the avg marks obtained.\n",
    "\n",
    "#[[Krishna,67,68,69],[Arjun 70 98 63],[Malika 52 56 60]]\n",
    "#---------------------------------------------------------------\n",
    "#Q-5 (a) Take 20 integer inputs from user and print the following:[1,2,3,4,5,6,7,8,-9,-10,-14,35,-6,57,4,3,53,21]\n",
    "#number of positive numbers\n",
    "#number of negative numbers\n",
    "#number of odd numbers\n",
    "#number of even numbers\n",
    "#number of 0s.\n",
    "# (b) Also create a list and depending on the above mentioned categories add them to their respective nested list.\n",
    "#[Try to do everything in one loop if possible.]\n",
    "#---------------------------------------------------------------\n",
    "\n",
    "#Q_6\n",
    "#Take 10 integer inputs from user and store them in a list. Again ask user to give a number. Now, tell user whether that number is present in list or not.\n",
    "#( Iterate over list using while loop ).\n",
    "#---------------------------------------------------------------\n",
    "\n"
   ]
  }
 ],
 "metadata": {
  "kernelspec": {
   "display_name": "Python 3",
   "language": "python",
   "name": "python3"
  },
  "language_info": {
   "codemirror_mode": {
    "name": "ipython",
    "version": 3
   },
   "file_extension": ".py",
   "mimetype": "text/x-python",
   "name": "python",
   "nbconvert_exporter": "python",
   "pygments_lexer": "ipython3",
   "version": "3.8.3"
  }
 },
 "nbformat": 4,
 "nbformat_minor": 4
}
