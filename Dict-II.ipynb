{
 "cells": [
  {
   "cell_type": "markdown",
   "metadata": {},
   "source": [
    "# Dictionaries :\n",
    "Dictionaries are used to store data values in key:value pairs.\n",
    "A dictionary is a collection which is unordered, changeable and does not allow duplicates.\n",
    "Dictionaries are written with curly brackets, and have keys and values: \n",
    " \n",
    " example= \n",
    "   thisdict = {\n",
    "  \"brand\": \"Ford\",\n",
    "  \"model\": \"Mustang\",\n",
    "  \"year\": 1964\n",
    "   }\n",
    "   \n",
    "   Duplicate keys are not allowed.If the same key is used twice in the same dictionary, \n",
    "   then the last occurrence will override the first.\n"
   ]
  },
  {
   "cell_type": "code",
   "execution_count": null,
   "metadata": {},
   "outputs": [],
   "source": [
    "lists=['amul','sudha','mother-dairy','catbury','kitkat','xyz']"
   ]
  },
  {
   "cell_type": "code",
   "execution_count": 12,
   "metadata": {},
   "outputs": [
    {
     "name": "stdout",
     "output_type": "stream",
     "text": [
      "['Ram', 'Ram-2']\n",
      "{'name': ['Ram', 'Ram-2']}\n"
     ]
    }
   ],
   "source": [
    "dicts={'name':[]}\n",
    "dicts['name'].append('Ram')\n",
    "dicts['name'].append('Ram-2')\n",
    "print(dicts['name'])\n",
    "print(dicts)"
   ]
  },
  {
   "cell_type": "code",
   "execution_count": 6,
   "metadata": {},
   "outputs": [
    {
     "name": "stdout",
     "output_type": "stream",
     "text": [
      "{'brand': 'Ford', 'model': 'Mustang', 'year': 1964}\n"
     ]
    }
   ],
   "source": [
    "# example of Dictionary\n",
    "\n",
    "thisdict = {\"brand\": \"Ford\",\"model\": \"Mustang\",\"year\": 1964}\n",
    "#thisdict={'category':[values]}\n",
    "\n",
    "print(thisdict)"
   ]
  },
  {
   "cell_type": "markdown",
   "metadata": {},
   "source": [
    "As they are dynamic, they can grow or shrink when needed.\n",
    "They are unordered which means that the order in which we specified the items is not maintained."
   ]
  },
  {
   "cell_type": "code",
   "execution_count": 5,
   "metadata": {},
   "outputs": [
    {
     "name": "stdout",
     "output_type": "stream",
     "text": [
      "{'brand': 'Ford', 'model': 'Mustang', 'year': 1964, 'owner': 'xyz'}\n"
     ]
    }
   ],
   "source": [
    "thisdict[\"owner\"]=\"xyz\"\n",
    "print(thisdict)"
   ]
  },
  {
   "cell_type": "code",
   "execution_count": 7,
   "metadata": {},
   "outputs": [
    {
     "name": "stdout",
     "output_type": "stream",
     "text": [
      "{'brand': 'Ford', 'model': 'Mustang', 'year': 1964, 'owner': 'GM'}\n"
     ]
    }
   ],
   "source": [
    "thisdict[\"owner\"]=\"GM\"\n",
    "print(thisdict)"
   ]
  },
  {
   "cell_type": "markdown",
   "metadata": {},
   "source": [
    "How to Create a Python Dictionary?\n",
    "\n",
    "Syntax of Dictionary:  myDict={Key:Value}"
   ]
  },
  {
   "cell_type": "code",
   "execution_count": 47,
   "metadata": {},
   "outputs": [
    {
     "name": "stdout",
     "output_type": "stream",
     "text": [
      "{'id01': 'George', 'id02': 'Nell', 'id03': 'Jasper', 'id04': 'Friedman', 'id05': 'Lindsay', 'id06': 'Burnett'}\n"
     ]
    }
   ],
   "source": [
    "# creating an empty dictionary with curly brackets\n",
    "employees = {}\n",
    "employees = {\"id01\": \"George\", \"id02\": \"Nell\", \"id03\": \"Jasper\"}\n",
    "\n",
    "employees[\"id04\"] = \"Friedman\"\n",
    "employees[\"id05\"] = \"Lindsay\"\n",
    "employees[\"id06\"] = \"Burnett\"\n",
    "\n",
    "print(employees)\n",
    "\n",
    "\n"
   ]
  },
  {
   "cell_type": "code",
   "execution_count": 48,
   "metadata": {},
   "outputs": [
    {
     "name": "stdout",
     "output_type": "stream",
     "text": [
      "{'LHR': 'London Heathrow', 'LGW': 'London Gatwick', 'IST': 'Istanbul Airport', 'SAW': 'Sabiha Gökçen International Airport', 'STN': 'London Stansted Airport'}\n"
     ]
    }
   ],
   "source": [
    "# creating an empty dictionary with dict() method\n",
    "airports = dict()  \n",
    "\n",
    "# create a dictionary using a list of key-value tuples\n",
    "airports = dict([\n",
    "    (\"LHR\", \"London Heathrow\"),\n",
    "    (\"LGW\", \"London Gatwick\")\n",
    "])\n",
    "\n",
    "airports[\"IST\"] = \"Istanbul Airport\"\n",
    "airports[\"SAW\"] = \"Sabiha Gökçen International Airport\"\n",
    "airports[\"STN\"] = \"London Stansted Airport\"\n",
    "\n",
    "print(airports)"
   ]
  },
  {
   "cell_type": "code",
   "execution_count": null,
   "metadata": {},
   "outputs": [],
   "source": [
    "[(\"LHR\", \"London Heathrow\"),(\"LGW\", \"London Gatwick\")]\n",
    "[{'key':'val'},{'key':'val'},{'key':'val'}]"
   ]
  },
  {
   "cell_type": "markdown",
   "metadata": {},
   "source": [
    "Suppose we have two lists and we want to store them as Dictonary then we can do"
   ]
  },
  {
   "cell_type": "code",
   "execution_count": 14,
   "metadata": {},
   "outputs": [
    {
     "name": "stdout",
     "output_type": "stream",
     "text": [
      "{'India': 'New Delhi', 'America': 'Washington, D.C.', 'Qatar': 'Doha'}\n"
     ]
    }
   ],
   "source": [
    "# zip() function to create a dictionary.\n",
    "keys=[\"India\", \"America\" , \"Qatar\",\"o\"]\n",
    "values=[\"New Delhi\" , \"Washington, D.C.\", \"Doha\"]\n",
    "myDict=dict(zip(keys, values))\n",
    "print(myDict)"
   ]
  },
  {
   "cell_type": "code",
   "execution_count": 50,
   "metadata": {},
   "outputs": [
    {
     "name": "stdout",
     "output_type": "stream",
     "text": [
      "{'Kerala': 'India', 'Delhi': 'India', 'Uttarakhand': 'India'}\n"
     ]
    }
   ],
   "source": [
    "#fromkeys() method is another way of creating dictionaries. \n",
    "#It takes an iterable object and creates a dictionary with specified value\n",
    "keys=[\"Kerala\", \"Delhi\" , \"Uttarakhand\"]\n",
    "values=\"India\"\n",
    "myDict=dict.fromkeys(keys, values)\n",
    "print(myDict)"
   ]
  },
  {
   "cell_type": "markdown",
   "metadata": {},
   "source": [
    "# Dictionary Methods"
   ]
  },
  {
   "cell_type": "code",
   "execution_count": 51,
   "metadata": {},
   "outputs": [
    {
     "name": "stdout",
     "output_type": "stream",
     "text": [
      "{'one': 1.0, 'two': 'to', 'three': 3.0, 'four': [4, 4.0]}\n"
     ]
    }
   ],
   "source": [
    "# Update a dictionary\n",
    "a = {'one': 1, 'two': 'to', 'three': 3.0, 'four': [4,4.0]}\n",
    "a['one']=1.0\n",
    "print(a)"
   ]
  },
  {
   "cell_type": "code",
   "execution_count": 52,
   "metadata": {},
   "outputs": [
    {
     "name": "stdout",
     "output_type": "stream",
     "text": [
      "{'two': 'to', 'three': 3.0, 'four': [4, 4.0]}\n"
     ]
    }
   ],
   "source": [
    "# Delete a single element\n",
    "del a['one'] \n",
    "print(a)"
   ]
  },
  {
   "cell_type": "code",
   "execution_count": 53,
   "metadata": {},
   "outputs": [
    {
     "name": "stdout",
     "output_type": "stream",
     "text": [
      "{}\n"
     ]
    }
   ],
   "source": [
    "# Delete all elements in the dictionary\n",
    "# a={}\n",
    "a.clear()\n",
    "print(a)"
   ]
  },
  {
   "cell_type": "code",
   "execution_count": 54,
   "metadata": {},
   "outputs": [
    {
     "ename": "NameError",
     "evalue": "name 'a' is not defined",
     "output_type": "error",
     "traceback": [
      "\u001b[1;31m---------------------------------------------------------------------------\u001b[0m",
      "\u001b[1;31mNameError\u001b[0m                                 Traceback (most recent call last)",
      "\u001b[1;32m<ipython-input-54-3b0b3d4fc2de>\u001b[0m in \u001b[0;36m<module>\u001b[1;34m\u001b[0m\n\u001b[0;32m      1\u001b[0m \u001b[1;31m# Delete the dictionary\u001b[0m\u001b[1;33m\u001b[0m\u001b[1;33m\u001b[0m\u001b[1;33m\u001b[0m\u001b[0m\n\u001b[0;32m      2\u001b[0m \u001b[1;32mdel\u001b[0m \u001b[0ma\u001b[0m\u001b[1;33m\u001b[0m\u001b[1;33m\u001b[0m\u001b[0m\n\u001b[1;32m----> 3\u001b[1;33m \u001b[0mprint\u001b[0m\u001b[1;33m(\u001b[0m\u001b[0ma\u001b[0m\u001b[1;33m)\u001b[0m\u001b[1;33m\u001b[0m\u001b[1;33m\u001b[0m\u001b[0m\n\u001b[0m\u001b[0;32m      4\u001b[0m \u001b[1;33m\u001b[0m\u001b[0m\n\u001b[0;32m      5\u001b[0m \u001b[1;31m#you will get error\u001b[0m\u001b[1;33m\u001b[0m\u001b[1;33m\u001b[0m\u001b[1;33m\u001b[0m\u001b[0m\n",
      "\u001b[1;31mNameError\u001b[0m: name 'a' is not defined"
     ]
    }
   ],
   "source": [
    "# Delete the dictionary\n",
    "del a \n",
    "print(a)\n",
    "\n",
    "#you will get error"
   ]
  },
  {
   "cell_type": "markdown",
   "metadata": {},
   "source": [
    "Adding Method:-\n",
    "There is no add(), insert()or append()methods that you can use to add items into your dictionary. \n",
    "Instead, you have to create a new key to store the value in your dictionary. \n",
    "If the key already exists in the dictionary, then the value will be overwritten."
   ]
  },
  {
   "cell_type": "code",
   "execution_count": 55,
   "metadata": {},
   "outputs": [
    {
     "name": "stdout",
     "output_type": "stream",
     "text": [
      "{'one': 1, 'two': 'to', 'three': 3.0, 'four': [4, 4.0], 'five': 5}\n",
      "--------------------------------------------------------------------------------------------\n",
      "{'one': 1, 'two': 'to', 'three': 3.0, 'four': [4, 4.0], 'five': 5, 'six': 6}\n",
      "--------------------------------------------------------------------------------------------\n",
      "{'one': 1.0, 'two': 'to', 'three': 3.0, 'four': [4, 4.0], 'five': 5, 'six': 6}\n"
     ]
    }
   ],
   "source": [
    "a = {'one': 1, 'two': 'to', 'three': 3.0, 'four': [4,4.0]}\n",
    "a['five']=5\n",
    "print(a)\n",
    "print('--------------------------------------------------------------------------------------------')\n",
    "\n",
    "# adding a value if only key does not exist\n",
    "if 'six' not in a:\n",
    "    a['six']=6\n",
    "print(a)  \n",
    "\n",
    "print(\"--------------------------------------------------------------------------------------------\")\n",
    "\n",
    "# if the key already exists in the dictionary, \n",
    "# then the value will be overwritten\n",
    "\n",
    "a['one']=1.0\n",
    "print(a)"
   ]
  },
  {
   "cell_type": "code",
   "execution_count": 1,
   "metadata": {},
   "outputs": [
    {
     "name": "stdout",
     "output_type": "stream",
     "text": [
      "-----\n",
      "{'even': [0]}\n",
      "{'even': [0, 2, 4, 6, 8, 10, 12, 14, 16, 18], 'odd': [1, 3, 5, 7, 9, 11, 13, 15, 17, 19]}\n"
     ]
    }
   ],
   "source": [
    "# _dict={'odd':[],'even':[]}\n",
    "_dict={}\n",
    "for i in range(20):\n",
    "    if i%2==0:\n",
    "        if 'even' in _dict:\n",
    "            _dict['even'].append(i)\n",
    "        else:\n",
    "            _dict['even']=[i]\n",
    "#             _dict['even'].append(i)\n",
    "            print(\"-----\")\n",
    "            print(_dict)\n",
    "    else:\n",
    "        if 'odd'  in _dict:\n",
    "            _dict['odd'].append(i)\n",
    "        else:\n",
    "            _dict['odd']=[]\n",
    "            _dict['odd'].append(i)\n",
    "            \n",
    "print(_dict)            \n",
    "        \n",
    "            \n",
    "            \n",
    "    \n",
    "\n",
    "\n",
    "# _dict={'odd':[1,3,5,7,9],'even':[2,4,6,8]}"
   ]
  },
  {
   "cell_type": "code",
   "execution_count": 2,
   "metadata": {},
   "outputs": [
    {
     "name": "stdout",
     "output_type": "stream",
     "text": [
      "{'even': [0, 2, 4, 6, 8, 10, 12, 14, 16, 18], 'odd': [1, 3, 5, 7, 9, 11, 13, 15, 17, 19]}\n"
     ]
    }
   ],
   "source": [
    "_dict={}\n",
    "for i in range(20):\n",
    "    if i%2==0:\n",
    "        if 'even' not in _dict:#x\n",
    "            _dict['even']=[]\n",
    "        _dict['even'].append(i)\n",
    "    else:\n",
    "        if 'odd' not in _dict:\n",
    "            _dict['odd']=[]\n",
    "        _dict['odd'].append(i)\n",
    "print(_dict)      "
   ]
  },
  {
   "cell_type": "markdown",
   "metadata": {},
   "source": [
    "Adding a Dictionary into another Dictionary"
   ]
  },
  {
   "cell_type": "code",
   "execution_count": 56,
   "metadata": {},
   "outputs": [
    {
     "name": "stdout",
     "output_type": "stream",
     "text": [
      "{'one': 1.0, 'two': 'to', 'three': 3.0, 'four': [4, 4.0], 'five': 5, 'six': 6, 'seven': 7, 'eight': 8}\n"
     ]
    }
   ],
   "source": [
    "a={'one': 1.0, 'two': 'to', 'three': 3.0, 'four': [4, 4.0], 'five': 5, 'six': 6}\n",
    "b={'seven':7, 'eight':8}\n",
    "#we are adding b into a\n",
    "\n",
    "a.update(b)\n",
    "print(a)"
   ]
  },
  {
   "cell_type": "markdown",
   "metadata": {},
   "source": [
    "How to Loop Through a Dictionary? :- Python dictionary methods; values(), keys(), and items() provide access to the elements contained inside a dictionary. You can use them in for loops to iterate through the dictionaries"
   ]
  },
  {
   "cell_type": "code",
   "execution_count": 57,
   "metadata": {},
   "outputs": [
    {
     "name": "stdout",
     "output_type": "stream",
     "text": [
      "1.0\n",
      "to\n",
      "3.0\n",
      "[4, 4.0]\n",
      "5\n",
      "6\n",
      "7\n",
      "8\n",
      "one\n",
      "two\n",
      "three\n",
      "four\n",
      "five\n",
      "six\n",
      "seven\n",
      "eight\n",
      "Key:one, Value :1.0\n",
      "Key:two, Value :to\n",
      "Key:three, Value :3.0\n",
      "Key:four, Value :[4, 4.0]\n",
      "Key:five, Value :5\n",
      "Key:six, Value :6\n",
      "Key:seven, Value :7\n",
      "Key:eight, Value :8\n",
      "one\n",
      "two\n",
      "three\n",
      "four\n",
      "five\n",
      "six\n",
      "seven\n",
      "eight\n"
     ]
    }
   ],
   "source": [
    "myDict={'one': 1.0, 'two': 'to', 'three': 3.0, 'four': [4, 4.0], 'five': 5, 'six': 6, 'seven': 7, 'eight': 8}\n",
    "\n",
    "# iterating using .values()\n",
    "for value in myDict.values():\n",
    "    print(value)\n",
    "\n",
    "# iterating using .keys()\n",
    "for key in myDict.keys():\n",
    "    print(key)\n",
    "\n",
    "# iterating using .items()\n",
    "for key, value in myDict.items():\n",
    "    print('Key:' + str(key) + ', Value :' + str(value))\n",
    "\n",
    "# iterating using  keys directly\n",
    "for key in myDict:\n",
    "    print(key)  \n"
   ]
  },
  {
   "cell_type": "markdown",
   "metadata": {},
   "source": [
    "# Python Dictionary Comprehension\n",
    "Syntax :- \n",
    " {key:value for (key, value) in iterable}"
   ]
  },
  {
   "cell_type": "code",
   "execution_count": 58,
   "metadata": {},
   "outputs": [
    {
     "name": "stdout",
     "output_type": "stream",
     "text": [
      "{'milk': 11.22, 'coffee': 27.5, 'bread': 16.5}\n"
     ]
    }
   ],
   "source": [
    "\n",
    "tax = 11.0\n",
    "\n",
    "price = {'milk': 1.02, 'coffee': 2.5, 'bread': 1.5}\n",
    "\n",
    "# creating a new dictionary with dictionary comprehension\n",
    "final_price = {key: value*tax for (key, value) in price.items()}\n",
    "print(final_price)"
   ]
  },
  {
   "cell_type": "markdown",
   "metadata": {},
   "source": [
    "Adding Conditionals to a Dictionary Comprehension"
   ]
  },
  {
   "cell_type": "code",
   "execution_count": 59,
   "metadata": {},
   "outputs": [
    {
     "name": "stdout",
     "output_type": "stream",
     "text": [
      "{'milk': 1.02, 'coffee': 2.5, 'bread': 1.5}\n",
      "{'jam': 0.5, 'wheat': 0.25}\n"
     ]
    }
   ],
   "source": [
    "price = {'milk': 1.02, 'coffee': 2.5, 'bread': 1.5, 'jam':0.5, 'wheat':0.25}\n",
    "# Adding If Conditions\n",
    "increment = {k:v for (k,v) in price.items() if v>1}\n",
    "decrement = {k:v for (k,v) in price.items() if v<1}\n",
    "print(increment)\n",
    "print(decrement)"
   ]
  },
  {
   "cell_type": "code",
   "execution_count": 60,
   "metadata": {},
   "outputs": [
    {
     "name": "stdout",
     "output_type": "stream",
     "text": [
      "{'wheat': 0.25}\n"
     ]
    }
   ],
   "source": [
    "\n",
    "# Adding Multiple If Conditions\n",
    "lowest = {k:v for (k,v) in price.items() if v>0.0 if v<0.3}\n",
    "print(lowest)\n"
   ]
  },
  {
   "cell_type": "code",
   "execution_count": 4,
   "metadata": {},
   "outputs": [
    {
     "name": "stdout",
     "output_type": "stream",
     "text": [
      "{'milk': 'high', 'coffee': 'high', 'bread': 'high', 'jam': 'high', 'wheat': 'low'}\n"
     ]
    }
   ],
   "source": [
    "# Adding If-Else Conditions\n",
    "price = {'milk': 1.02, 'coffee': 2.5, 'bread': 1.5, 'jam':1, 'wheat':0.25}\n",
    "\n",
    "new_price = {k:('high' if v>=1 else 'low') for (k,v) in price.items()}\n",
    "print(new_price)\n",
    "\n",
    "# new=['hello' if i%2==0 else 'bye' for i in range(10)]"
   ]
  },
  {
   "cell_type": "markdown",
   "metadata": {},
   "source": [
    "# Questions:"
   ]
  },
  {
   "cell_type": "code",
   "execution_count": null,
   "metadata": {},
   "outputs": [],
   "source": [
    "Question 1: add a key to a dictionary, list={0: 10, 1: 20} key=2, value=30\n",
    "Question 2: check whether a given key already exists in a dictionary ,d = {1: 10, 2: 20, 3: 30, 4: 40, 5: 50, 6: 60} \n",
    "            key=8\n",
    "Question 3: Merge Two lists d1 = {'a': 100, 'b': 200}\n",
    "                            d2 = {'x': 300, 'y': 200}      \n",
    "Question 4: Write a Python program to iterate over dictionaries using for loops.\n",
    "            d = {'Red': 1, 'Green': 2, 'Blue': 3} \n",
    "Question 5: Write a Python program to sum all the items in a dictionary. \n",
    "            my_dict = {'data1':100,'data2':-54,'data3':247}        \n"
   ]
  }
 ],
 "metadata": {
  "kernelspec": {
   "display_name": "Python 3",
   "language": "python",
   "name": "python3"
  },
  "language_info": {
   "codemirror_mode": {
    "name": "ipython",
    "version": 3
   },
   "file_extension": ".py",
   "mimetype": "text/x-python",
   "name": "python",
   "nbconvert_exporter": "python",
   "pygments_lexer": "ipython3",
   "version": "3.8.3"
  }
 },
 "nbformat": 4,
 "nbformat_minor": 4
}
