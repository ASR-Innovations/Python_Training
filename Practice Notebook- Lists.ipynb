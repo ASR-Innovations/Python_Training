{
 "cells": [
  {
   "cell_type": "code",
   "execution_count": 1,
   "metadata": {},
   "outputs": [],
   "source": [
    "#Q-1  Add 2 lists using concat method and save it to a new list"
   ]
  },
  {
   "cell_type": "code",
   "execution_count": null,
   "metadata": {},
   "outputs": [],
   "source": [
    "#Q-2 Add 2 lists using concat method and save it to the 1st list"
   ]
  },
  {
   "cell_type": "code",
   "execution_count": null,
   "metadata": {},
   "outputs": [],
   "source": [
    "#Q-3  Add 2 lists using the extend function [ the new list should have the address of the 1st list]"
   ]
  },
  {
   "cell_type": "code",
   "execution_count": null,
   "metadata": {},
   "outputs": [],
   "source": [
    "#Q-4  Add 2 lists using the extend function [ the new list should have the address of the 2nd list]"
   ]
  },
  {
   "cell_type": "code",
   "execution_count": null,
   "metadata": {},
   "outputs": [],
   "source": [
    "#Q-5  Add 2 lists using a for loop .[ the new list should have the address of the 1st list]"
   ]
  },
  {
   "cell_type": "code",
   "execution_count": null,
   "metadata": {},
   "outputs": [],
   "source": [
    "#Q-6  Add 2 lists using a for loop .[ the new list should have the address of the 2nd list]"
   ]
  },
  {
   "cell_type": "code",
   "execution_count": null,
   "metadata": {},
   "outputs": [],
   "source": [
    "#Q-7  Create a list of alphabets and remove the letter p,q,r,s,t and then pop the even indices using a for loop."
   ]
  },
  {
   "cell_type": "code",
   "execution_count": null,
   "metadata": {},
   "outputs": [],
   "source": [
    "#Q-8 Create a list and perform del, remove ,pop, append and extend operations. print the new list"
   ]
  },
  {
   "cell_type": "code",
   "execution_count": null,
   "metadata": {},
   "outputs": [],
   "source": [
    "#Q-9 Can you think of a method how to check if 2 lists are pointing at the same object?"
   ]
  },
  {
   "cell_type": "code",
   "execution_count": null,
   "metadata": {},
   "outputs": [],
   "source": [
    "#Q-10 How to check if the values inside a list is same ?    [For simipicity sake, assume that the lists contain same elemets at the same indices]"
   ]
  },
  {
   "cell_type": "code",
   "execution_count": null,
   "metadata": {},
   "outputs": [],
   "source": [
    "#Q-11 Check for prime numbers between 1-500 and append the values to a list."
   ]
  },
  {
   "cell_type": "code",
   "execution_count": null,
   "metadata": {},
   "outputs": [],
   "source": [
    "#Q-12 Check if a number is odd or even and save the even numbers to a even list and odd numbers to a odd list."
   ]
  },
  {
   "cell_type": "code",
   "execution_count": null,
   "metadata": {},
   "outputs": [],
   "source": [
    "#Q-13 create a list of first 20 natural numbers, then using a for loop, add 1 to each of them. remember, dont create a new list."
   ]
  },
  {
   "cell_type": "code",
   "execution_count": null,
   "metadata": {},
   "outputs": [],
   "source": [
    "#Q-14 Create a nested list . and print the 1st index of each nested list using a for loop. \n",
    "#eg: [[1,2],[3,4]] \n",
    "### you need to print 2,4"
   ]
  },
  {
   "cell_type": "code",
   "execution_count": null,
   "metadata": {},
   "outputs": [],
   "source": [
    "#Q-15 Iterate over the items of a list without using a range func."
   ]
  },
  {
   "cell_type": "code",
   "execution_count": null,
   "metadata": {},
   "outputs": [],
   "source": [
    "#Q-16 Iterate over the items of a list  using a range func and length function. and then print all the elements at even indices."
   ]
  },
  {
   "cell_type": "code",
   "execution_count": null,
   "metadata": {},
   "outputs": [],
   "source": [
    "#Q-17 Create a nested list[with 2 values in each nested list] and add the 2 values and append in that nested list.\n",
    "#eg.:    [[1,2],[3,4],[5,6]]\n",
    "\n",
    "#add 1,2=3\n",
    "#add 3,4=7\n",
    "#add 5,6 =11\n",
    "#new list [[1,2,3],[3,4,7],[5,6,11]]"
   ]
  }
 ],
 "metadata": {
  "kernelspec": {
   "display_name": "Python 3",
   "language": "python",
   "name": "python3"
  },
  "language_info": {
   "codemirror_mode": {
    "name": "ipython",
    "version": 3
   },
   "file_extension": ".py",
   "mimetype": "text/x-python",
   "name": "python",
   "nbconvert_exporter": "python",
   "pygments_lexer": "ipython3",
   "version": "3.8.3"
  }
 },
 "nbformat": 4,
 "nbformat_minor": 4
}
