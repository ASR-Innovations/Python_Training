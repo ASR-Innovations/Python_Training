{
 "cells": [
  {
   "cell_type": "markdown",
   "metadata": {},
   "source": [
    "# All Questions are compulsory        \n",
    "### Q-1, Q-2 ,Q-3 SHould be done without the use of jupyter notebook.  Use pen & paper , and send the screenshots to me after solving each question. \n",
    "### Q-4, Q-5 ,Q-6 Should be done using  jupyter notebook.    \n",
    "\n"
   ]
  },
  {
   "cell_type": "markdown",
   "metadata": {},
   "source": [
    "## Q-1     2 Marks\n",
    "The target is to take input from user as an string and to add 5 to it. <br>\n",
    "Hint : Type casting is required , but not when taking input from the user\n"
   ]
  },
  {
   "cell_type": "code",
   "execution_count": null,
   "metadata": {},
   "outputs": [],
   "source": [
    "#Write your code here"
   ]
  },
  {
   "cell_type": "markdown",
   "metadata": {},
   "source": [
    "## Q-2  2 Marks\n",
    "(a) int eqv. of True <br>\n",
    "(b) int eqv. of False\n",
    " <br>\n",
    "Also write the code to print the int eqv of both.\n"
   ]
  },
  {
   "cell_type": "code",
   "execution_count": 2,
   "metadata": {},
   "outputs": [],
   "source": [
    "#Write your code here"
   ]
  },
  {
   "cell_type": "markdown",
   "metadata": {},
   "source": [
    "## Q-3  5 Marks\n",
    "\n",
    "(a)  a=5;  b=2.0;     <br> print(a/b) <br> print(a//b) <br> print(a%b) <br> print(a*b/b) <br> print(a*b/b**b) \n",
    "    \n",
    " "
   ]
  },
  {
   "cell_type": "markdown",
   "metadata": {},
   "source": [
    "## Q-4 1+2+2+1+3+3 Marks\n",
    "\n",
    "str='This test is boring '\n",
    "<br>\n",
    "(a) Print in reverse<br>\n",
    "(b) Print all the words in different lines using a for loop<br>\n",
    "(c)Repeat (b) using a while loop<br>\n",
    "(d)Print the total no. of characters in str<br>\n",
    "(e)Print the same string in one line, but all the words reveresed.  ****HINT--YOU CAN USE ANY METHOD FOR (e)\n",
    "(f) Print all the reversed words on different lines using a for loop."
   ]
  },
  {
   "cell_type": "code",
   "execution_count": 63,
   "metadata": {},
   "outputs": [],
   "source": [
    "#Write your code here"
   ]
  },
  {
   "cell_type": "markdown",
   "metadata": {},
   "source": [
    "## Q-5     5 Marks\n",
    "Print a pyramid using star , and the height of the pyramid should be 10\n",
    "eg:\n",
    "# __*<br>\n",
    "# _*_* <br>\n",
    "# *_*_* <br> \n",
    "height=10\n",
    "for i in range(height)"
   ]
  },
  {
   "cell_type": "markdown",
   "metadata": {},
   "source": [
    "## Q-6  3+3 Marks\n",
    "str='Ramdan hads beedn ad gredat studednt adt tdhe university since tdhe begdining'\\\n",
    "\n",
    "Look at this string , there has been a typo , the word 'd' hs been printed by mistake. <br>\n",
    "Your task is to print the string in one line after removing all the d's using for and while loop.\n"
   ]
  }
 ],
 "metadata": {
  "kernelspec": {
   "display_name": "Python 3",
   "language": "python",
   "name": "python3"
  },
  "language_info": {
   "codemirror_mode": {
    "name": "ipython",
    "version": 3
   },
   "file_extension": ".py",
   "mimetype": "text/x-python",
   "name": "python",
   "nbconvert_exporter": "python",
   "pygments_lexer": "ipython3",
   "version": "3.8.3"
  }
 },
 "nbformat": 4,
 "nbformat_minor": 4
}
