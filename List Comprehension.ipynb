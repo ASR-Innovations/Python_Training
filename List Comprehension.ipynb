{
 "cells": [
  {
   "cell_type": "markdown",
   "metadata": {},
   "source": [
    "# List Comprehension"
   ]
  },
  {
   "cell_type": "markdown",
   "metadata": {},
   "source": [
    "List comprehension is an elegant way to define and create lists based on existing lists.\n",
    "List comprehension is generally more compact and faster than normal functions and loops for creating list.\n",
    "However, we should avoid writing very long list comprehensions in one line to ensure that code is user-friendly.\n",
    "Remember, every list comprehension can be rewritten in for loop, but every for loop can’t be rewritten in the form of list comprehension."
   ]
  },
  {
   "cell_type": "code",
   "execution_count": 4,
   "metadata": {},
   "outputs": [
    {
     "name": "stdout",
     "output_type": "stream",
     "text": [
      "['h', 'u', 'm', 'a', 'n']\n"
     ]
    }
   ],
   "source": [
    "#Normal Style\n",
    "\n",
    "h_letters = []\n",
    "\n",
    "for letter in 'human':\n",
    "    h_letters.append(letter)\n",
    "    \n",
    "\n",
    "print(h_letters)\n",
    "\n"
   ]
  },
  {
   "cell_type": "code",
   "execution_count": 5,
   "metadata": {},
   "outputs": [
    {
     "name": "stdout",
     "output_type": "stream",
     "text": [
      "['h', 'u', 'm', 'a', 'n']\n"
     ]
    }
   ],
   "source": [
    "#List Comprehension\n",
    "h_letters = [ letter for letter in 'human' ]\n",
    "print( h_letters)"
   ]
  },
  {
   "cell_type": "code",
   "execution_count": null,
   "metadata": {},
   "outputs": [],
   "source": [
    "h_letters = [ i for i in 'human' ]\n",
    "print( h_letters)"
   ]
  },
  {
   "cell_type": "markdown",
   "metadata": {},
   "source": [
    "Analyse this statement : [expression for item in list]"
   ]
  },
  {
   "cell_type": "markdown",
   "metadata": {},
   "source": [
    "## Using if with List Comprehension"
   ]
  },
  {
   "cell_type": "code",
   "execution_count": 6,
   "metadata": {},
   "outputs": [
    {
     "name": "stdout",
     "output_type": "stream",
     "text": [
      "[0, 2, 4, 6, 8, 10, 12, 14, 16, 18]\n"
     ]
    }
   ],
   "source": [
    "number_list = [ x for x in range(20) if x % 2 == 0]\n",
    "print(number_list)"
   ]
  },
  {
   "cell_type": "markdown",
   "metadata": {},
   "source": [
    "## Nested IF with List Comprehension"
   ]
  },
  {
   "cell_type": "code",
   "execution_count": 1,
   "metadata": {},
   "outputs": [
    {
     "name": "stdout",
     "output_type": "stream",
     "text": [
      "[0, 10, 20, 30, 40, 50, 60, 70, 80, 90]\n"
     ]
    }
   ],
   "source": [
    "num_list = [y for y in range(100) if y % 2 == 0 if y % 5 == 0]\n",
    "print(num_list)"
   ]
  },
  {
   "cell_type": "code",
   "execution_count": 8,
   "metadata": {},
   "outputs": [
    {
     "name": "stdout",
     "output_type": "stream",
     "text": [
      "[0, 10, 20, 30, 40, 50, 60, 70, 80, 90]\n"
     ]
    }
   ],
   "source": [
    "num_list = [y for y in range(100) if y % 2 == 0 and y % 5 == 0]\n",
    "print(num_list)"
   ]
  },
  {
   "cell_type": "markdown",
   "metadata": {},
   "source": [
    "## if...else With List Comprehension"
   ]
  },
  {
   "cell_type": "code",
   "execution_count": 10,
   "metadata": {},
   "outputs": [
    {
     "name": "stdout",
     "output_type": "stream",
     "text": [
      "['Even', 'Odd', 'Even', 'Odd', 'Even', 'Odd', 'Even', 'Odd', 'Even', 'Odd']\n"
     ]
    }
   ],
   "source": [
    "obj = [\"Even\" if i%2==0 else \"Odd\" for i in range(10)]\n",
    "print(obj)"
   ]
  },
  {
   "cell_type": "code",
   "execution_count": 11,
   "metadata": {},
   "outputs": [
    {
     "ename": "SyntaxError",
     "evalue": "invalid syntax (<ipython-input-11-7da38311e7bc>, line 1)",
     "output_type": "error",
     "traceback": [
      "\u001b[0;36m  File \u001b[0;32m\"<ipython-input-11-7da38311e7bc>\"\u001b[0;36m, line \u001b[0;32m1\u001b[0m\n\u001b[0;31m    obj = [\"Even\" if i%2==0 elif i%2!=0 \"Odd\" for i in range(10)]\u001b[0m\n\u001b[0m                            ^\u001b[0m\n\u001b[0;31mSyntaxError\u001b[0m\u001b[0;31m:\u001b[0m invalid syntax\n"
     ]
    }
   ],
   "source": [
    "obj = [\"Even\" if i%2==0 elif i%2!=0 \"Odd\" for i in range(10)]\n",
    "print(obj)"
   ]
  },
  {
   "cell_type": "code",
   "execution_count": 12,
   "metadata": {},
   "outputs": [
    {
     "ename": "SyntaxError",
     "evalue": "invalid syntax (<ipython-input-12-8466697fc505>, line 1)",
     "output_type": "error",
     "traceback": [
      "\u001b[0;36m  File \u001b[0;32m\"<ipython-input-12-8466697fc505>\"\u001b[0;36m, line \u001b[0;32m1\u001b[0m\n\u001b[0;31m    obj = [\"Even\" if i%2==0 \"Odd\" elif i%2!=0  for i in range(10)]\u001b[0m\n\u001b[0m                            ^\u001b[0m\n\u001b[0;31mSyntaxError\u001b[0m\u001b[0;31m:\u001b[0m invalid syntax\n"
     ]
    }
   ],
   "source": [
    "obj = [\"Even\" if i%2==0 \"Odd\" elif i%2!=0  for i in range(10)]\n",
    "print(obj)"
   ]
  },
  {
   "cell_type": "markdown",
   "metadata": {},
   "source": [
    "## Nested Loops in List Comprehension"
   ]
  },
  {
   "cell_type": "code",
   "execution_count": 9,
   "metadata": {},
   "outputs": [
    {
     "name": "stdout",
     "output_type": "stream",
     "text": [
      "[[1, 4, 5], [2, 5, 6], [3, 6, 7], [4, 8, 8]]\n"
     ]
    }
   ],
   "source": [
    "#Transpose of Matrix using Nested Loops\n",
    "transposed = []\n",
    "matrix = [[1, 2, 3, 4], [4, 5, 6, 8]]\n",
    "matrix = [[1, 2, 3, 4], [4, 5, 6, 8],[5,6,7,8]]\n",
    "\n",
    "\n",
    "for i in range(len(matrix[0])):\n",
    "    transposed_row = []\n",
    "\n",
    "    for row in matrix:\n",
    "        transposed_row.append(row[i])\n",
    "    transposed.append(transposed_row)\n",
    "\n",
    "print(transposed)"
   ]
  },
  {
   "cell_type": "code",
   "execution_count": null,
   "metadata": {},
   "outputs": [],
   "source": [
    "#Transpose of a Matrix using List Comprehension\n",
    "matrix = [[1, 2], [3,4], [5,6], [7,8]]"
   ]
  },
  {
   "cell_type": "code",
   "execution_count": null,
   "metadata": {},
   "outputs": [],
   "source": [
    "[[1, 2, 3, 4], \n",
    " [4, 5, 6, 8]]\n",
    "-------------\n",
    "[[1 4]\n",
    "[2 5 ]\n",
    "[3 6]\n",
    "[4 8]]\n",
    "-------------\n",
    "[1,4,5]\n",
    "[2,5,6]\n",
    "[3,6,7]\n",
    "[4,8,8]"
   ]
  }
 ],
 "metadata": {
  "kernelspec": {
   "display_name": "Python 3",
   "language": "python",
   "name": "python3"
  },
  "language_info": {
   "codemirror_mode": {
    "name": "ipython",
    "version": 3
   },
   "file_extension": ".py",
   "mimetype": "text/x-python",
   "name": "python",
   "nbconvert_exporter": "python",
   "pygments_lexer": "ipython3",
   "version": "3.8.3"
  }
 },
 "nbformat": 4,
 "nbformat_minor": 4
}
