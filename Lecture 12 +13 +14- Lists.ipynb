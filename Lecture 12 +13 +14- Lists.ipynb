{
 "cells": [
  {
   "cell_type": "markdown",
   "metadata": {},
   "source": [
    "# Lists"
   ]
  },
  {
   "cell_type": "markdown",
   "metadata": {},
   "source": [
    "### How to create a list?\n",
    "In Python programming, a list is created by placing all the items (elements) inside square brackets [], separated by commas.\n",
    "\n",
    "It can have any number of items and they may be of different types (integer, float, string etc.).\n",
    "\n"
   ]
  },
  {
   "cell_type": "code",
   "execution_count": 5,
   "metadata": {},
   "outputs": [],
   "source": [
    "# empty list\n",
    "my_list = []\n",
    "my_liat=list((1231))\n",
    "\n",
    "# list of integers\n",
    "my_list = [1, 2, 3]\n",
    "\n",
    "# list with mixed data types\n",
    "my_list = [1, \"Hello\", 3.4]"
   ]
  },
  {
   "cell_type": "code",
   "execution_count": 135,
   "metadata": {},
   "outputs": [
    {
     "name": "stdout",
     "output_type": "stream",
     "text": [
      "['mouse', [8, 'q', 6], ['a'], 1]\n",
      "['mouse', [8, 'q', 6], [], 1]\n"
     ]
    }
   ],
   "source": [
    "#A list can also have another list as an item. This is called a nested list.\n",
    "\n",
    "# Nested list\n",
    "my_list = [\"mouse\", [8, 4, 6], ['a'],1] \n",
    "matrix=[[1,2,3],[4,5,6],[7,8,9]]\n",
    "\n",
    "my_list[1][1]=\"q\"\n",
    "print(my_list)\n",
    "del my_list[2]\n",
    "del my_list[2][0]\n",
    "print(my_list)\n",
    "# for i in matrix:\n",
    "#     for j in i:\n",
    "#         print(j)\n"
   ]
  },
  {
   "cell_type": "markdown",
   "metadata": {},
   "source": [
    "### How to access elements from a list?\n",
    "There are various ways in which we can access the elements of a list.\n",
    "\n",
    "List Index\n",
    "We can use the index operator [] to access an item in a list. In Python, indices start at 0. So, a list having 5 elements will have an index from 0 to 4.\n",
    "\n",
    "Trying to access indexes other than these will raise an IndexError. The index must be an integer. We can't use float or other types, this will result in TypeError.\n",
    "\n",
    "Nested lists are accessed using nested indexing."
   ]
  },
  {
   "cell_type": "code",
   "execution_count": 8,
   "metadata": {},
   "outputs": [
    {
     "name": "stdout",
     "output_type": "stream",
     "text": [
      "p\n",
      "o\n",
      "e\n",
      "a\n",
      "5\n"
     ]
    }
   ],
   "source": [
    "# List indexing\n",
    "\n",
    "my_list = ['p', 'r', 'o', 'b', 'e']\n",
    "\n",
    "# Output: p\n",
    "print(my_list[0])\n",
    "\n",
    "# Output: o\n",
    "print(my_list[2])\n",
    "\n",
    "# Output: e\n",
    "print(my_list[4])\n",
    "\n",
    "# Nested List\n",
    "n_list = [\"Happy\", [2, 0, 1, 5]]\n",
    "\n",
    "# Nested indexing\n",
    "print(n_list[0][1])\n",
    "\n",
    "print(n_list[1][3])\n",
    "\n",
    "# Error! Only integer can be used for indexing\n",
    "# print(my_list[4.0])"
   ]
  },
  {
   "cell_type": "markdown",
   "metadata": {},
   "source": [
    "## Negative indexing\n",
    "Python allows negative indexing for its sequences. The index of -1 refers to the last item, -2 to the second last item and so on.\n"
   ]
  },
  {
   "cell_type": "code",
   "execution_count": 10,
   "metadata": {},
   "outputs": [
    {
     "name": "stdout",
     "output_type": "stream",
     "text": [
      "e\n",
      "p\n"
     ]
    }
   ],
   "source": [
    "\n",
    "\n",
    "# Negative indexing in lists\n",
    "my_list = ['p','r','o','b','e']\n",
    "\n",
    "print(my_list[-1])\n",
    "\n",
    "print(my_list[-5])"
   ]
  },
  {
   "cell_type": "markdown",
   "metadata": {},
   "source": [
    "### How to slice lists in Python?\n",
    "We can access a range of items in a list by using the slicing operator :(colon)."
   ]
  },
  {
   "cell_type": "code",
   "execution_count": 88,
   "metadata": {},
   "outputs": [
    {
     "name": "stdout",
     "output_type": "stream",
     "text": [
      "['o', 'g', 'r']\n",
      "['p', 'r', 'o', 'g']\n",
      "['a', 'm', 'i', 'z']\n",
      "['p', 'r', 'o', 'g', 'r', 'a', 'm', 'i', 'z']\n",
      "['p', 'r', 'o', 'g', 'r', 'a', 'm', 'i', 'z']\n"
     ]
    }
   ],
   "source": [
    "# List slicing in Python\n",
    "\n",
    "my_list = ['p','r','o','g','r','a','m','i','z']\n",
    "\n",
    "# elements 3rd to 5th\n",
    "print(my_list[2:5:1])\n",
    "\n",
    "# elements beginning to 4th\n",
    "print(my_list[:-5])\n",
    "\n",
    "# elements 6th to end\n",
    "print(my_list[5:])\n",
    "\n",
    "# elements beginning to end\n",
    "print(my_list[:])\n",
    "print(my_list)"
   ]
  },
  {
   "cell_type": "markdown",
   "metadata": {},
   "source": [
    "### How to change or add elements to a list?\n",
    "Lists are mutable, meaning their elements can be changed unlike string or tuple.\n",
    "\n",
    "We can use the assignment operator (=) to change an item or a range of items."
   ]
  },
  {
   "cell_type": "code",
   "execution_count": 106,
   "metadata": {},
   "outputs": [
    {
     "name": "stdout",
     "output_type": "stream",
     "text": [
      "['String val', 4]\n",
      "140288112418048\n",
      "[4]\n",
      "['String val', 3, 5, 6, 7]\n",
      "140288112418048\n",
      "['String val', 3, 5, 6, 7, 4]\n"
     ]
    }
   ],
   "source": [
    "# Correcting mistake values in a list\n",
    "odd = [2, 4 ]\n",
    "\n",
    "# change the 1st item    \n",
    "odd[0] =   \"String val\"         \n",
    "\n",
    "print(odd)\n",
    "print(id(odd))\n",
    "\n",
    "# change 2nd to 4th items\n",
    "print(odd[1:4])\n",
    "# odd[1:4] = [3, 5, [1,2,[1,2,3,[1,2]]]]  \n",
    "odd[1] = [3, 5, 6,7]  \n",
    "odd[1:2] = [3, 5, 6,7]  \n",
    "print(odd)    \n",
    "print(id(odd))\n",
    "# odd[5:5]=[4]\n",
    "print(odd)   "
   ]
  },
  {
   "cell_type": "markdown",
   "metadata": {},
   "source": [
    "### append()  vs extend()\n",
    "We can add one item to a list using the append() method or add several items using extend() method."
   ]
  },
  {
   "cell_type": "code",
   "execution_count": 108,
   "metadata": {},
   "outputs": [
    {
     "name": "stdout",
     "output_type": "stream",
     "text": [
      "[1, 3, 5, 7]\n",
      "[1, 3, 5, 7, 9, 11, 13, [1, 2, 3], (1, 2, 3)]\n"
     ]
    }
   ],
   "source": [
    "# Appending and Extending lists in Python\n",
    "odd = [1, 3, 5]\n",
    "\n",
    "odd.append(7)\n",
    "\n",
    "print(odd)\n",
    "\n",
    "odd.extend([9, 11, 13])\n",
    "odd.append([1,2,3])\n",
    "odd.append((1,2,3))\n",
    "\n",
    "print(odd)"
   ]
  },
  {
   "cell_type": "markdown",
   "metadata": {},
   "source": [
    "We can also use + operator to combine two lists. This is also called concatenation.\n",
    "\n",
    "The * operator repeats a list for the given number of times."
   ]
  },
  {
   "cell_type": "code",
   "execution_count": 114,
   "metadata": {},
   "outputs": [
    {
     "name": "stdout",
     "output_type": "stream",
     "text": [
      "[1, 3, 5, 2, 4, 6]\n",
      "--\n",
      "[1, 3, 5, 2, 4, 6]\n",
      "--\n",
      "[1, 3, 5, 9, 7, 5]\n",
      "['re', 're', 're']\n",
      "S\n",
      "t\n",
      "r\n",
      "i\n",
      "n\n",
      "g\n",
      "1\n",
      "2\n",
      "3\n"
     ]
    }
   ],
   "source": [
    "# Concatenating and repeating lists\n",
    "odd = [1, 3, 5]\n",
    "even=[2,4,6]\n",
    "num=odd+even\n",
    "print(num)\n",
    "print('--')\n",
    "print([*odd,*even])\n",
    "print('--')\n",
    "\n",
    "print(odd + [9, 7, 5])\n",
    "\n",
    "print([\"re\"] * 3)\n",
    "\n",
    "# string_=\"hello There\"\n",
    "# for i in string_:\n",
    "#     print(\"\")\n",
    "\n",
    "for i in \"String\":\n",
    "    print(i)\n",
    "for i in range(123):\n",
    "    print(i)    "
   ]
  },
  {
   "cell_type": "markdown",
   "metadata": {},
   "source": [
    "### insert()"
   ]
  },
  {
   "cell_type": "code",
   "execution_count": 116,
   "metadata": {},
   "outputs": [
    {
     "name": "stdout",
     "output_type": "stream",
     "text": [
      "[1, [1, 2, 3], 8, 9]\n",
      "[1, [1, 2, 3], 8, 9]\n"
     ]
    }
   ],
   "source": [
    "# Demonstration of list insert() method\n",
    "odd = [1, 9]\n",
    "odd.insert(1,8)\n",
    "odd.insert(1,[1,2,3])\n",
    "print(odd)\n",
    "\n",
    "\n",
    "\n",
    "print(odd)"
   ]
  },
  {
   "cell_type": "code",
   "execution_count": 122,
   "metadata": {},
   "outputs": [
    {
     "name": "stdout",
     "output_type": "stream",
     "text": [
      "[1, [1, 2, 3], 0, 1, 7, 0, 1, 7, 0, 1, 7, 0, 1, 7, 0, 1, 7, 0, 1, 9]\n",
      "[1, [1, 2, 3], 5, 7, 0, 1, 7, 0, 1, 7, 0, 1, 7, 0, 1, 7, 0, 1, 7, 0, 1, 9]\n",
      "[1, [1, 2, 3], [13], 7, 0, 1, 7, 0, 1, 7, 0, 1, 7, 0, 1, 7, 0, 1, 7, 0, 1, 9]\n",
      "ba\n"
     ]
    }
   ],
   "source": [
    "# Getting a bit ahead of ourselves\n",
    "odd[2:3]=[0,1]\n",
    "print(odd)\n",
    "odd[2:2] = [5, 7]\n",
    "print(odd)\n",
    "odd[2]=[13]\n",
    "# odd[2]=13\n",
    "print(odd)\n",
    "l=[\"bat\",\"cat\"]\n",
    "print(l[0][0:2]) #bat[0:2] #ba"
   ]
  },
  {
   "cell_type": "markdown",
   "metadata": {},
   "source": [
    "### How to delete or remove elements from a list?\n",
    "We can delete one or more items from a list using the keyword del. It can even delete the list entirely."
   ]
  },
  {
   "cell_type": "code",
   "execution_count": 127,
   "metadata": {},
   "outputs": [
    {
     "name": "stdout",
     "output_type": "stream",
     "text": [
      "['p', 'r', 'b', 'l', 'e', 'm']\n",
      "['p', 'm']\n"
     ]
    },
    {
     "ename": "NameError",
     "evalue": "name 'my_list' is not defined",
     "output_type": "error",
     "traceback": [
      "\u001b[0;31m---------------------------------------------------------------------------\u001b[0m",
      "\u001b[0;31mNameError\u001b[0m                                 Traceback (most recent call last)",
      "\u001b[0;32m<ipython-input-127-781b273e6764>\u001b[0m in \u001b[0;36m<module>\u001b[0;34m\u001b[0m\n\u001b[1;32m     16\u001b[0m \u001b[0;34m\u001b[0m\u001b[0m\n\u001b[1;32m     17\u001b[0m \u001b[0;31m# Error: List ?\u001b[0m\u001b[0;34m\u001b[0m\u001b[0;34m\u001b[0m\u001b[0;34m\u001b[0m\u001b[0m\n\u001b[0;32m---> 18\u001b[0;31m \u001b[0mprint\u001b[0m\u001b[0;34m(\u001b[0m\u001b[0mmy_list\u001b[0m\u001b[0;34m)\u001b[0m\u001b[0;34m\u001b[0m\u001b[0;34m\u001b[0m\u001b[0m\n\u001b[0m",
      "\u001b[0;31mNameError\u001b[0m: name 'my_list' is not defined"
     ]
    }
   ],
   "source": [
    "# Deleting list items\n",
    "my_list = ['p', 'r', 'o', 'b', 'l', 'e', 'm']\n",
    "\n",
    "# delete one item\n",
    "del my_list[2]\n",
    "\n",
    "print(my_list)\n",
    "\n",
    "# delete multiple items\n",
    "del my_list[1:5]\n",
    "\n",
    "print(my_list)\n",
    "\n",
    "# delete entire list\n",
    "del my_list\n",
    "\n",
    "# Error: List ?\n",
    "print(my_list)"
   ]
  },
  {
   "cell_type": "markdown",
   "metadata": {},
   "source": [
    "### remove() vs pop()\n",
    "We can use remove() method to remove the given item or pop() method to remove an item at the given index.\n",
    "\n",
    "The pop() method removes and returns the last item if the index is not provided. This helps us implement lists as stacks (first in, last out data structure).\n",
    "\n",
    "We can also use the clear() method to empty a list."
   ]
  },
  {
   "cell_type": "code",
   "execution_count": 128,
   "metadata": {},
   "outputs": [
    {
     "name": "stdout",
     "output_type": "stream",
     "text": [
      "['r', 'o', 'b', 'l', 'e', 'm']\n",
      "o\n",
      "['r', 'b', 'l', 'e', 'm']\n",
      "--\n",
      "m\n",
      "--\n",
      "['r', 'b', 'l', 'e']\n",
      "[]\n"
     ]
    }
   ],
   "source": [
    "my_list = ['p','r','o','b','l','e','m']\n",
    "my_list.remove('p')\n",
    "\n",
    "# Output: ['r', 'o', 'b', 'l', 'e', 'm']\n",
    "print(my_list)\n",
    "\n",
    "# Output: 'o'\n",
    "print(my_list.pop(1))\n",
    "\n",
    "# Output: ['r', 'b', 'l', 'e', 'm']\n",
    "print(my_list)\n",
    "\n",
    "# Output: 'm'\n",
    "print(\"--\")\n",
    "print(my_list.pop())\n",
    "print(\"--\")\n",
    "\n",
    "# Output: ['r', 'b', 'l', 'e']\n",
    "print(my_list)\n",
    "\n",
    "my_list.clear()\n",
    "\n",
    "# Output: []\n",
    "print(my_list)"
   ]
  },
  {
   "cell_type": "code",
   "execution_count": 28,
   "metadata": {},
   "outputs": [
    {
     "name": "stdout",
     "output_type": "stream",
     "text": [
      "['p', 'r', 'b', 'l', 'e', 'm']\n"
     ]
    }
   ],
   "source": [
    "###Finally, we can also delete items in a list by assigning an empty list to a slice of elements.\n",
    "\n",
    "my_list = ['p','r','o','b','l','e','m']\n",
    "my_list[2:3] = []\n",
    "print(my_list)"
   ]
  },
  {
   "cell_type": "markdown",
   "metadata": {},
   "source": [
    "### Loop Through a List"
   ]
  },
  {
   "cell_type": "code",
   "execution_count": 30,
   "metadata": {},
   "outputs": [
    {
     "name": "stdout",
     "output_type": "stream",
     "text": [
      "apple\n",
      "banana\n",
      "cherry\n"
     ]
    }
   ],
   "source": [
    "thislist = [\"apple\", \"banana\", \"cherry\"]\n",
    "for x in thislist:\n",
    "    \n",
    "      print(x)"
   ]
  },
  {
   "cell_type": "markdown",
   "metadata": {},
   "source": [
    "### Check if Item Exists"
   ]
  },
  {
   "cell_type": "code",
   "execution_count": 39,
   "metadata": {},
   "outputs": [
    {
     "name": "stdout",
     "output_type": "stream",
     "text": [
      "Yes, 'apple' is in the fruits list\n",
      "['cherry', 'apple', 'banana', 'z', 'A']\n",
      "['A', 'apple', 'banana', 'cherry', 'z']\n"
     ]
    }
   ],
   "source": [
    "\n",
    "thislist = [ \"cherry\",\"apple\", \"banana\",'z','A']\n",
    "if \"apple\" in thislist:\n",
    "    print(\"Yes, 'apple' is in the fruits list\")\n",
    "print(thislist)\n",
    "thislist.sort()\n",
    "print(thislist)"
   ]
  },
  {
   "cell_type": "markdown",
   "metadata": {},
   "source": [
    "### copy()  ---- The danger Zone\n",
    "You cannot copy a list simply by typing list2 = list1, because: list2 will only be a reference to list1, and changes made in list1 will automatically also be made in list2.\n",
    "\n",
    "There are ways to make a copy, one way is to use the built-in List method copy()\n"
   ]
  },
  {
   "cell_type": "code",
   "execution_count": 35,
   "metadata": {},
   "outputs": [
    {
     "name": "stdout",
     "output_type": "stream",
     "text": [
      "140294856687168\n",
      "140294856687168\n",
      "[1, 2, 3, 5]\n",
      "[1, 2, 3, 5]\n"
     ]
    }
   ],
   "source": [
    "l1=[1,2,3]\n",
    "l2=l1\n",
    "l2.append(5)\n",
    "print(id(l1))\n",
    "print(id(l2))\n",
    "print(l1)\n",
    "print(l2)\n",
    "\n",
    "\n",
    "a=10\n",
    "b=a\n",
    "b=b+1"
   ]
  },
  {
   "cell_type": "code",
   "execution_count": 34,
   "metadata": {},
   "outputs": [
    {
     "name": "stdout",
     "output_type": "stream",
     "text": [
      "['apple', 'banana', 'cherry']\n",
      "['apple', 'banana', 'cherry']\n"
     ]
    }
   ],
   "source": [
    "thislist = [\"apple\", \"banana\", \"cherry\"]\n",
    "mylist = thislist.copy()\n",
    "print(mylist)\n",
    "#Another way to make a copy is to use the built-in method list()\n",
    "thislist = [\"apple\", \"banana\", \"cherry\"]\n",
    "mylist = list(thislist)\n",
    "print(mylist)\n"
   ]
  },
  {
   "cell_type": "markdown",
   "metadata": {},
   "source": [
    "### Using append & for loops to join 2 lists:"
   ]
  },
  {
   "cell_type": "code",
   "execution_count": 36,
   "metadata": {},
   "outputs": [
    {
     "name": "stdout",
     "output_type": "stream",
     "text": [
      "['a', 'b', 'c', 1, 2, 3]\n"
     ]
    }
   ],
   "source": [
    "# We could use extend, concat, or this method.\n",
    "list1 = [\"a\", \"b\" , \"c\"]\n",
    "list2 = [1, 2, 3]\n",
    "\n",
    "for x in list2:\n",
    "    list1.append(x)\n",
    "\n",
    "print(list1)"
   ]
  },
  {
   "cell_type": "markdown",
   "metadata": {},
   "source": [
    "### The list() Constructor\n"
   ]
  },
  {
   "cell_type": "code",
   "execution_count": 47,
   "metadata": {},
   "outputs": [
    {
     "name": "stdout",
     "output_type": "stream",
     "text": [
      "['apple', 'banana', 'cherry']\n",
      "[1, 2, 3]\n",
      "2\n",
      "1\n",
      "3\n"
     ]
    }
   ],
   "source": [
    "thislist = list((\"apple\", \"banana\", \"cherry\")) # note the double round-brackets\n",
    "print(thislist)\n",
    "newlis=list([1,2,3]) # Confused???\n",
    "print(newlis)\n"
   ]
  },
  {
   "cell_type": "markdown",
   "metadata": {},
   "source": [
    "###  index, count , length, reverse, sort,sorted,clear,sum"
   ]
  },
  {
   "cell_type": "code",
   "execution_count": 58,
   "metadata": {},
   "outputs": [
    {
     "name": "stdout",
     "output_type": "stream",
     "text": [
      "2\n",
      "1\n",
      "3\n",
      "None\n",
      "[3, 2, 1]\n",
      "None\n",
      "[1, 2, 3]\n"
     ]
    }
   ],
   "source": [
    "newlis=list([1,2,3])\n",
    "print(newlis.index(3)) #index\n",
    "print(newlis.count(1)) #count\n",
    "print(len(newlis))     #length. or len ()\n",
    "print(newlis.reverse())  #make a note of this notation\n",
    "print(newlis)\n",
    "print(newlis.sort())  #again\n",
    "print(newlis)"
   ]
  },
  {
   "cell_type": "markdown",
   "metadata": {},
   "source": [
    "# Important"
   ]
  },
  {
   "cell_type": "code",
   "execution_count": 8,
   "metadata": {},
   "outputs": [
    {
     "name": "stdout",
     "output_type": "stream",
     "text": [
      "2.2\n"
     ]
    },
    {
     "ename": "TypeError",
     "evalue": "list indices must be integers or slices, not float",
     "output_type": "error",
     "traceback": [
      "\u001b[0;31m---------------------------------------------------------------------------\u001b[0m",
      "\u001b[0;31mTypeError\u001b[0m                                 Traceback (most recent call last)",
      "\u001b[0;32m<ipython-input-8-03a1727976f3>\u001b[0m in \u001b[0;36m<module>\u001b[0;34m\u001b[0m\n\u001b[1;32m      5\u001b[0m \u001b[0;32mfor\u001b[0m \u001b[0mi\u001b[0m \u001b[0;32min\u001b[0m \u001b[0ml\u001b[0m\u001b[0;34m:\u001b[0m\u001b[0;34m\u001b[0m\u001b[0;34m\u001b[0m\u001b[0m\n\u001b[1;32m      6\u001b[0m \u001b[0;31m#     print(i)\u001b[0m\u001b[0;34m\u001b[0m\u001b[0;34m\u001b[0m\u001b[0;34m\u001b[0m\u001b[0m\n\u001b[0;32m----> 7\u001b[0;31m     \u001b[0mprint\u001b[0m\u001b[0;34m(\u001b[0m\u001b[0ml\u001b[0m\u001b[0;34m[\u001b[0m\u001b[0mi\u001b[0m\u001b[0;34m]\u001b[0m\u001b[0;34m)\u001b[0m   \u001b[0;31m#this is wrong but this is how it might confuse you\u001b[0m\u001b[0;34m\u001b[0m\u001b[0;34m\u001b[0m\u001b[0m\n\u001b[0m\u001b[1;32m      8\u001b[0m \u001b[0;34m\u001b[0m\u001b[0m\n\u001b[1;32m      9\u001b[0m \u001b[0;31m# for i in range(len(l)):\u001b[0m\u001b[0;34m\u001b[0m\u001b[0;34m\u001b[0m\u001b[0;34m\u001b[0m\u001b[0m\n",
      "\u001b[0;31mTypeError\u001b[0m: list indices must be integers or slices, not float"
     ]
    }
   ],
   "source": [
    "l=[1,2.2,3,4,'a']\n",
    "#l[2.4]\n",
    "#l['a']\n",
    "\n",
    "for i in l:\n",
    "#     print(i)\n",
    "    print(l[i])   #this is wrong but this is how it might confuse you\n",
    "    \n",
    "# for i in range(len(l)):\n",
    "#     print(i)\n",
    "#     print(l[i])    #if you want to print using the index , got for range and len."
   ]
  },
  {
   "cell_type": "code",
   "execution_count": 6,
   "metadata": {},
   "outputs": [
    {
     "ename": "TypeError",
     "evalue": "list indices must be integers or slices, not str",
     "output_type": "error",
     "traceback": [
      "\u001b[0;31m---------------------------------------------------------------------------\u001b[0m",
      "\u001b[0;31mTypeError\u001b[0m                                 Traceback (most recent call last)",
      "\u001b[0;32m<ipython-input-6-0a17facb8c8e>\u001b[0m in \u001b[0;36m<module>\u001b[0;34m\u001b[0m\n\u001b[1;32m      2\u001b[0m \u001b[0;32mfor\u001b[0m \u001b[0mi\u001b[0m \u001b[0;32min\u001b[0m \u001b[0ml1\u001b[0m\u001b[0;34m:\u001b[0m\u001b[0;34m\u001b[0m\u001b[0;34m\u001b[0m\u001b[0m\n\u001b[1;32m      3\u001b[0m \u001b[0;31m#     print(i)\u001b[0m\u001b[0;34m\u001b[0m\u001b[0;34m\u001b[0m\u001b[0;34m\u001b[0m\u001b[0m\n\u001b[0;32m----> 4\u001b[0;31m     \u001b[0mprint\u001b[0m\u001b[0;34m(\u001b[0m\u001b[0ml\u001b[0m\u001b[0;34m[\u001b[0m\u001b[0mi\u001b[0m\u001b[0;34m]\u001b[0m\u001b[0;34m)\u001b[0m   \u001b[0;31m#this is wrong but this is how it might confuse you\u001b[0m\u001b[0;34m\u001b[0m\u001b[0;34m\u001b[0m\u001b[0m\n\u001b[0m\u001b[1;32m      5\u001b[0m \u001b[0;34m\u001b[0m\u001b[0m\n\u001b[1;32m      6\u001b[0m \u001b[0;32mfor\u001b[0m \u001b[0mi\u001b[0m \u001b[0;32min\u001b[0m \u001b[0mrange\u001b[0m\u001b[0;34m(\u001b[0m\u001b[0mlen\u001b[0m\u001b[0;34m(\u001b[0m\u001b[0ml1\u001b[0m\u001b[0;34m)\u001b[0m\u001b[0;34m)\u001b[0m\u001b[0;34m:\u001b[0m\u001b[0;34m\u001b[0m\u001b[0;34m\u001b[0m\u001b[0m\n",
      "\u001b[0;31mTypeError\u001b[0m: list indices must be integers or slices, not str"
     ]
    }
   ],
   "source": [
    "l1=['a','b','c','d']\n",
    "for i in l1:\n",
    "#     print(i)\n",
    "    print(l[i])   #this is wrong but this is how it might confuse you\n",
    "    \n",
    "for i in range(len(l1)):\n",
    "    print(i)\n",
    "    print(l[i])    #if you want to print using the index , got for range and len."
   ]
  },
  {
   "cell_type": "code",
   "execution_count": 15,
   "metadata": {},
   "outputs": [
    {
     "name": "stdout",
     "output_type": "stream",
     "text": [
      "[1, 2, []]\n"
     ]
    }
   ],
   "source": [
    "l=[1,2,[1,2,3]]\n",
    "l[2].clear()\n",
    "print(l)"
   ]
  },
  {
   "cell_type": "markdown",
   "metadata": {},
   "source": [
    "## Practice"
   ]
  },
  {
   "cell_type": "code",
   "execution_count": 50,
   "metadata": {},
   "outputs": [],
   "source": [
    "#find first n prime numbers\n",
    "counter=True\n",
    "number=2\n",
    "num_counter=0\n",
    "nth_prime=0\n",
    "while counter:\n",
    "    _type=isPrime(number)\n",
    "    \n",
    "    if _type:\n",
    "        num_counter+=1\n",
    "    if num_counter==5:\n",
    "        counter=False\n",
    "        nth_prime=number\n",
    "    number+=1    \n",
    "\n",
    "    \n",
    "    "
   ]
  },
  {
   "cell_type": "code",
   "execution_count": 59,
   "metadata": {},
   "outputs": [],
   "source": [
    "#Q-1 Create a list with 5 integer values, 2 string values and a nested list inside it with 4 words.\n",
    "#Q-2 iterate over the list using for loop\n",
    "#Q-3 iterate with the for loop and change the value of the 2nd index([2])  to a string value\n",
    "#Q-4 Now change the nested list  using a for loop and replace it with an int\n",
    "#Q-5 Write a Python program to sum all the items in a list\n",
    "#Q-6 Write a Python program to multiplies all the items in a list\n",
    "#Q-7 Write a Python program to get the largest number from a list.     use the tricks, dont go with the hard way\n",
    "#Q-8Write a Python program to get the smallest number from a list.     use the tricks, dont go with the hard way\n",
    "\n",
    "#Q-9 create a list with hard coded 1, 0 values {total 10 values each} now iterate using a for loop and replace all the 1 with \n",
    "# 5 and delete all the 0.\n",
    "# Q-10 find the len of the list now , (for Q-9)"
   ]
  },
  {
   "cell_type": "code",
   "execution_count": 18,
   "metadata": {},
   "outputs": [
    {
     "name": "stdout",
     "output_type": "stream",
     "text": [
      "[[5, 11, 21, 34, 21, 43], [44, 91, 21, 23], [1, 2, 2, 3, 4]]\n",
      "[[5, 11, 21, 34, 21, 43], [1, 2, 2, 3, 4], [44, 91, 21, 23]]\n",
      "\n"
     ]
    }
   ],
   "source": [
    "# #Answers:\n",
    "# #1\n",
    "# l=[1,2,3,4,5,'a','python',['python','is','not','lang']]\n",
    "# #2\n",
    "# for i in l:\n",
    "#     print(i)\n",
    "#3\n",
    "# l[2]='a'\n",
    "# print(len(l))\n",
    "# for i in range(len(l)):\n",
    "#     if i==2:\n",
    "#         l[2]='a'\n",
    "#         break\n",
    "        \n",
    "# #4\n",
    "# for i in range(len(l)):\n",
    "#     if i==7:\n",
    "#         l[7].clear()  #['python','is','not','lang'].clear()\n",
    "# #         l[7].append(1)\n",
    "#         l[7]=5\n",
    "# print(l)        \n",
    "        \n",
    "# #5\n",
    "# print(\"----\")\n",
    "# l2=[1,2,3,4,5,10]\n",
    "# # print(sum(l2))\n",
    "# _val=0\n",
    "# for i in l2:\n",
    "#     _val=_val+i\n",
    "# print(_val)\n",
    "    \n",
    "    \n",
    "    \n",
    "# print(\"----\")\n",
    "\n",
    "\n",
    "# # l_new=[]\n",
    "# # for i in range(1,100):\n",
    "# #     l_new.append(i)\n",
    "    \n",
    "# print(\"---------\")\n",
    "# print(\"---------\")\n",
    "# l2=[51,21,2,3,498,5,10] \n",
    "# print(id(l2))\n",
    "# l2.sort()\n",
    "# print(id(l2))\n",
    "# print(\"---------\")\n",
    "# print(\"---------\")\n",
    "\n",
    "# print(l2[-1])\n",
    "\n",
    "\n",
    "# print(\"---------\")\n",
    "# print(id(l2))\n",
    "# l2=sorted(l2)\n",
    "# print(l2)\n",
    "# print(id(l2))\n",
    "\n",
    "\n",
    "# print(\"---------\")\n",
    "\n",
    "\n",
    "# #9\n",
    "# print(\"=======\")\n",
    "# l_last=[1,0,1,0,1,0,1,0,1,0]\n",
    "# for i in range(len(l_last)):\n",
    "#     if l_last[i]==1:\n",
    "#         l_last[i]=5\n",
    "#     elif l_last[i]==0:\n",
    "#         del l_last[i]   #this will throw an error there are 2 approaches either to use a lambda or list comprehension\n",
    "#                         #but in order for us to use existing knowledge to solve this ques, we need to create a new list.\n",
    "            \n",
    "        \n",
    "# print(l_last)        \n",
    "        \n",
    "# for i in range(l_last):\n",
    "#     f l_last[i]==1:\n",
    "#         l_last[i]=5\n",
    "#     elif l_last[i]==0:\n",
    "#         del l_last[i]\n",
    "        \n",
    "        \n",
    "        \n",
    "    \n",
    "    \n",
    " #Q-7\n",
    "\n",
    "# l=[91,42,35,5,21,2,1,11]\n",
    "# print(l)\n",
    "# l.sort()\n",
    "# print(l)\n",
    "# l.sort(reverse=True)\n",
    "# print(l)\n",
    "# # print(l[-1])\n",
    "\n",
    "\n",
    "\n",
    "#sort:\n",
    "# l.sort(key=lambda x:x[1],reverse=True)\n",
    "\n",
    "\n",
    "l=[[5,11,21,34,21,43],[44,91,21,23],[1,2,2,3,4]]    #(l[i][2]+l[i][1])/l[i][0]\n",
    "# print(l)\n",
    "# l.sort()\n",
    "print(l)\n",
    "\n",
    "\n",
    "l.sort(key=len,reverse=True)\n",
    "print(l)\n",
    "\n",
    "\n",
    "        \n",
    "    \n",
    "print()\n",
    "\n",
    "\n",
    "# def __print__(self):\n",
    "#     len()\n",
    "#     print()\n",
    "#     sort()\n",
    "#     remove()\n",
    "    \n",
    "l=[[5,11,21,34,21,43],[44,91,21,23],[1,2,2,3]]\n",
    "l.sort(key=len,reverse=True)\n",
    "print(l)\n",
    "\n",
    "    \n",
    "def __len__(e): \n",
    "    sum=0\n",
    "    for i in e:\n",
    "        sum+=1 \n",
    "    return sum\n",
    "\n",
    "# sorted(l,key=,reverse=)\n",
    "    \n",
    "l2=[51,62,2,3,498,5,10]     if i<fe:\n",
    "fe=l2[0]  \n",
    "\n",
    "for i in l2:\n",
    "    \n",
    "    "
   ]
  },
  {
   "cell_type": "code",
   "execution_count": 24,
   "metadata": {
    "scrolled": true
   },
   "outputs": [
    {
     "name": "stdout",
     "output_type": "stream",
     "text": [
      "[[44, 91, 21, 23], [5, 11, 21, 34, 21, 43], [1, 2, 2, 3]]\n",
      "----\n",
      "[[1, 2, 2, 3], [5, 11, 21, 34, 21, 43], [44, 91, 21, 23]]\n"
     ]
    }
   ],
   "source": [
    "\n",
    "l=[[5,11,21,34,21,43],[44,91,21,23],[1,2,2,3]]\n",
    "l.sort(key=second_key,reverse=True)\n",
    "print(l)\n",
    "print(\"----\")\n",
    "\n",
    "l.sort(key=second_key)\n",
    "print(l)\n",
    "def second_key(lis):\n",
    "    return lis[1]\n",
    "\n"
   ]
  },
  {
   "cell_type": "code",
   "execution_count": 19,
   "metadata": {},
   "outputs": [
    {
     "name": "stdout",
     "output_type": "stream",
     "text": [
      "[[5, 11, 21, 34, 21, 43], [44, 91, 21, 23], [1, 2, 2, 3]]\n"
     ]
    }
   ],
   "source": [
    "l=[[5,11,21,34,21,43],[44,91,21,23],[1,2,2,3]]\n",
    "l.sort(key=len,reverse=True)\n",
    "print(l)\n"
   ]
  },
  {
   "cell_type": "code",
   "execution_count": 20,
   "metadata": {},
   "outputs": [
    {
     "name": "stdout",
     "output_type": "stream",
     "text": [
      "[[5, 11, 21, 34, 21, 43], [1, 2, 2, 3], [44, 91, 21, 23]]\n"
     ]
    }
   ],
   "source": [
    "l=[[5,11,21,34,21,43],[1,2,2,3],[44,91,21,23]]\n",
    "l.sort(key=len,reverse=True)\n",
    "print(l)"
   ]
  },
  {
   "cell_type": "code",
   "execution_count": 2,
   "metadata": {},
   "outputs": [
    {
     "name": "stdout",
     "output_type": "stream",
     "text": [
      "5\n",
      "4\n"
     ]
    }
   ],
   "source": [
    "l=[1,2,3,4,5]\n",
    "print(len(l))\n",
    "del l[2]\n",
    "# print(l)\n",
    "print(len(l))\n",
    " for i in range(len(l)):  #range(5)  0,1,2,3,4.     0,1,2,3\n",
    "        pass"
   ]
  },
  {
   "cell_type": "code",
   "execution_count": 63,
   "metadata": {},
   "outputs": [
    {
     "name": "stdout",
     "output_type": "stream",
     "text": [
      "4342954624\n"
     ]
    }
   ],
   "source": [
    "a=10\n",
    "print(id(a))"
   ]
  },
  {
   "cell_type": "code",
   "execution_count": 62,
   "metadata": {},
   "outputs": [
    {
     "name": "stdout",
     "output_type": "stream",
     "text": [
      "4342954752\n"
     ]
    }
   ],
   "source": [
    "a=a+2\n",
    "print(id(a))"
   ]
  },
  {
   "cell_type": "code",
   "execution_count": 72,
   "metadata": {},
   "outputs": [
    {
     "name": "stdout",
     "output_type": "stream",
     "text": [
      "[1, 2, 3, 4]\n"
     ]
    }
   ],
   "source": [
    "# my_list=[]\n",
    "my_list=[1,2,3,4]\n",
    "print(my_list)"
   ]
  },
  {
   "cell_type": "code",
   "execution_count": 69,
   "metadata": {},
   "outputs": [
    {
     "data": {
      "text/plain": [
       "list"
      ]
     },
     "execution_count": 69,
     "metadata": {},
     "output_type": "execute_result"
    }
   ],
   "source": [
    "type(my_list)"
   ]
  },
  {
   "cell_type": "code",
   "execution_count": 76,
   "metadata": {},
   "outputs": [
    {
     "name": "stdout",
     "output_type": "stream",
     "text": [
      "[1, 2, 3, 4]\n"
     ]
    }
   ],
   "source": [
    "# my_list=list((1,2,3,4))       int(5.0)\n",
    "my_list=list([1,2,3,4])\n",
    "print(my_list)"
   ]
  },
  {
   "cell_type": "code",
   "execution_count": 77,
   "metadata": {},
   "outputs": [],
   "source": [
    "my_list = ['p', 'r', 'o', 'b', 'e']"
   ]
  },
  {
   "cell_type": "code",
   "execution_count": 87,
   "metadata": {},
   "outputs": [
    {
     "name": "stdout",
     "output_type": "stream",
     "text": [
      "['e', 'b', 'o', 'r', 'p']\n",
      "['r', 'o', 'b']\n",
      "['e', 'b', 'o', 'r', 'p']\n"
     ]
    }
   ],
   "source": [
    "print(my_list[-1:-6:-1])\n",
    "print(my_list[-4:-1])\n",
    "print(my_list[::-1])"
   ]
  },
  {
   "cell_type": "code",
   "execution_count": null,
   "metadata": {},
   "outputs": [],
   "source": [
    "func_(10,20)"
   ]
  }
 ],
 "metadata": {
  "kernelspec": {
   "display_name": "Python 3",
   "language": "python",
   "name": "python3"
  },
  "language_info": {
   "codemirror_mode": {
    "name": "ipython",
    "version": 3
   },
   "file_extension": ".py",
   "mimetype": "text/x-python",
   "name": "python",
   "nbconvert_exporter": "python",
   "pygments_lexer": "ipython3",
   "version": "3.8.3"
  }
 },
 "nbformat": 4,
 "nbformat_minor": 4
}
