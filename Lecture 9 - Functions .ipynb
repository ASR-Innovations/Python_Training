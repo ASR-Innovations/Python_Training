{
 "cells": [
  {
   "cell_type": "markdown",
   "metadata": {},
   "source": [
    "# Functions:\n"
   ]
  },
  {
   "cell_type": "markdown",
   "metadata": {},
   "source": [
    "In Python, a function is a group of related statements that performs a specific task.\n",
    "\n",
    "Functions help break our program into smaller and modular chunks. As our program grows larger and larger, functions make it more organized and manageable.\n",
    "\n",
    "Furthermore, it avoids repetition and makes the code reusable."
   ]
  },
  {
   "cell_type": "code",
   "execution_count": 2,
   "metadata": {},
   "outputs": [],
   "source": [
    "#Syntax of Function:\n",
    "\n",
    "\n",
    "def my_func(a,b,c):                             # a , b , c  are parameters \n",
    "    a=10\n",
    "    print(a)\n",
    "    print(\"My first Function\")                   # Here you do the tasks. \n",
    "    \n",
    "\n",
    "\n",
    "x=10\n",
    "y=20\n",
    "z=30\n",
    "my_func(x,y,z)             #Using this notation , the function is called.  Also x,y,z are the arguments.\n",
    "# print(a)"
   ]
  },
  {
   "cell_type": "markdown",
   "metadata": {},
   "source": [
    "## Functions are also objects, just like every other in python"
   ]
  },
  {
   "cell_type": "code",
   "execution_count": 33,
   "metadata": {},
   "outputs": [
    {
     "name": "stdout",
     "output_type": "stream",
     "text": [
      "30\n",
      "Func 2\n"
     ]
    }
   ],
   "source": [
    "##Eg:\n",
    "\n",
    "def func_2():\n",
    "    a=10\n",
    "    b=20\n",
    "    print(a+b)\n",
    "    print(\"Func 2\")\n",
    "    \n",
    "pointing_to_func_2=func_2\n",
    "\n",
    "# Now calling pointing_to_func_2\n",
    "pointing_to_func_2()\n"
   ]
  },
  {
   "cell_type": "markdown",
   "metadata": {},
   "source": [
    "### What if i do this mistake ?"
   ]
  },
  {
   "cell_type": "code",
   "execution_count": 34,
   "metadata": {},
   "outputs": [
    {
     "name": "stdout",
     "output_type": "stream",
     "text": [
      "Func 2\n"
     ]
    },
    {
     "ename": "TypeError",
     "evalue": "'NoneType' object is not callable",
     "output_type": "error",
     "traceback": [
      "\u001b[0;31m---------------------------------------------------------------------------\u001b[0m",
      "\u001b[0;31mTypeError\u001b[0m                                 Traceback (most recent call last)",
      "\u001b[0;32m<ipython-input-34-266d1eb64b4c>\u001b[0m in \u001b[0;36m<module>\u001b[0;34m\u001b[0m\n\u001b[1;32m      7\u001b[0m \u001b[0;34m\u001b[0m\u001b[0m\n\u001b[1;32m      8\u001b[0m \u001b[0;31m# Now calling pointing_to_func_2\u001b[0m\u001b[0;34m\u001b[0m\u001b[0;34m\u001b[0m\u001b[0;34m\u001b[0m\u001b[0m\n\u001b[0;32m----> 9\u001b[0;31m \u001b[0mpointing_to_func_2\u001b[0m\u001b[0;34m(\u001b[0m\u001b[0;34m)\u001b[0m\u001b[0;34m\u001b[0m\u001b[0;34m\u001b[0m\u001b[0m\n\u001b[0m",
      "\u001b[0;31mTypeError\u001b[0m: 'NoneType' object is not callable"
     ]
    }
   ],
   "source": [
    "##Eg:\n",
    "\n",
    "def func_2():\n",
    "    print(\"Func 2\")\n",
    "    \n",
    "pointing_to_func_2=func_2()\n",
    "\n",
    "# Now calling pointing_to_func_2\n",
    "pointing_to_func_2()\n"
   ]
  },
  {
   "cell_type": "markdown",
   "metadata": {},
   "source": [
    "## Return Type vs No Return Type:"
   ]
  },
  {
   "cell_type": "markdown",
   "metadata": {},
   "source": [
    "#### This one has no return type.  So you can assign the function as a whole to another variable. But the result of the function cant be assigned. NOTE this difference"
   ]
  },
  {
   "cell_type": "code",
   "execution_count": 36,
   "metadata": {},
   "outputs": [
    {
     "name": "stdout",
     "output_type": "stream",
     "text": [
      "Func 2\n"
     ]
    }
   ],
   "source": [
    "def func_2():\n",
    "    print(\"Func 2\")\n",
    "    \n",
    "    \n",
    "func_2()    # Calling function\n",
    "new_var=func_2    #Pointing the function to the new var.\n",
    "# new_var=func_2()    Remember, this is not assignment, this is basically assiging the returned value to another \n"
   ]
  },
  {
   "cell_type": "raw",
   "metadata": {},
   "source": [
    "#### Function with a return Type"
   ]
  },
  {
   "cell_type": "code",
   "execution_count": null,
   "metadata": {},
   "outputs": [],
   "source": [
    "def func_2():\n",
    "    return True\n",
    "# def func_2():\n",
    "#     return 1\n",
    "# def func_2():\n",
    "#     return \"Function 2\"\n",
    "func_2()        # This again calls the function , but this time the value that is getting returned from the function is not getting stored.\n",
    "var_1=func_2()   # This val_1 here acts here as a refn to the object returned by the func_2"
   ]
  },
  {
   "cell_type": "markdown",
   "metadata": {},
   "source": [
    "## Now what is this return ??"
   ]
  },
  {
   "cell_type": "markdown",
   "metadata": {},
   "source": [
    "The return statement is used to exit a function and go back to the place from where it was called.\n",
    "\n",
    "This statement can contain an expression that gets evaluated and the value is returned.\n",
    "If there is no expression in the statement or the return statement itself is not present inside a function, then the function will return the None object.\n",
    ">>> print(greet(\"May\"))\n",
    "Hello, May. Good morning!\n",
    "<br>\n",
    "Return Type : None"
   ]
  },
  {
   "cell_type": "markdown",
   "metadata": {},
   "source": [
    "## Scope and Lifetime of variables\n",
    "\n",
    "Scope of a variable is the portion of a program where the variable is recognized. Parameters and variables defined inside a function are not visible from outside the function. Hence, they have a local scope.\n",
    "\n",
    "The lifetime of a variable is the period throughout which the variable exiSts in the memory. The lifetime of variables inside a function is as long as the function executes.\n",
    "\n",
    "They are destroyed once we return from the function. Hence, a function does not remember the value of a variable from its previous calls.\n",
    "\n",
    "\n",
    "<h1>GLOBAL VS LOCAL</h1>\n",
    "We call the part of a program where a variable is accessible its scope, and the duration for which the variable exists its lifetime.\n",
    "A variable which is defined in the main body of a file is called a global variable. It will be visible throughout the file, and also inside any file which imports that file. Global variables can have unintended consequences because of their wide-ranging effects – that is why we should almost never use them. Only objects which are intended to be used globally, like functions and classes, should be put in the global namespace.\n",
    "\n"
   ]
  },
  {
   "cell_type": "code",
   "execution_count": 6,
   "metadata": {},
   "outputs": [
    {
     "name": "stdout",
     "output_type": "stream",
     "text": [
      "Value inside function: 10\n",
      "Value outside function: 20\n"
     ]
    }
   ],
   "source": [
    "def my_func():\n",
    "    x = 10\n",
    "    print(\"Value inside function:\",x)\n",
    "\n",
    "x = 20\n",
    "my_func()\n",
    "print(\"Value outside function:\",x)"
   ]
  },
  {
   "cell_type": "markdown",
   "metadata": {},
   "source": [
    "## Let's practice some functions\n",
    "\n",
    "Q-1 Create a function which take a number as an input and returns it's square.<br>\n",
    "Q-2 Create a function which take a number as an input and prints it's cube.<br>\n",
    "Q-3 Create a function which take a number as an input and if input is 1 , it returns(the reference to) function square and if the input is 2 it returns the (reference to) function 2.  <br>\n",
    "Q-4 Create a function which take a number as an input and if input is 1 , it returns the output of function square and if the input is 2 it returns the output of the function 2. "
   ]
  },
  {
   "cell_type": "code",
   "execution_count": 7,
   "metadata": {},
   "outputs": [],
   "source": [
    "# Word of caution  : returning a function is not the same as returning something from (as in result of) the function. "
   ]
  },
  {
   "cell_type": "code",
   "execution_count": null,
   "metadata": {},
   "outputs": [],
   "source": [
    "#Q1"
   ]
  },
  {
   "cell_type": "code",
   "execution_count": null,
   "metadata": {},
   "outputs": [],
   "source": [
    "#Q2"
   ]
  },
  {
   "cell_type": "code",
   "execution_count": null,
   "metadata": {},
   "outputs": [],
   "source": [
    "#Q3"
   ]
  },
  {
   "cell_type": "code",
   "execution_count": null,
   "metadata": {},
   "outputs": [],
   "source": [
    "#Q4"
   ]
  },
  {
   "cell_type": "code",
   "execution_count": 12,
   "metadata": {
    "scrolled": true
   },
   "outputs": [
    {
     "name": "stdout",
     "output_type": "stream",
     "text": [
      "None\n"
     ]
    }
   ],
   "source": [
    "\n"
   ]
  },
  {
   "cell_type": "code",
   "execution_count": 13,
   "metadata": {},
   "outputs": [],
   "source": [
    "#####NOTE############\n",
    "#Approach 1\n",
    "check3=q3(1) #Calling the function and pointing to the returned refn of the function\n",
    "check3(5) #now check3 points to the returned function and with brackets , we can call the function directly."
   ]
  },
  {
   "cell_type": "code",
   "execution_count": null,
   "metadata": {},
   "outputs": [],
   "source": []
  },
  {
   "cell_type": "code",
   "execution_count": 17,
   "metadata": {},
   "outputs": [
    {
     "name": "stdout",
     "output_type": "stream",
     "text": [
      "9\n"
     ]
    }
   ],
   "source": [
    "#####NOTE############\n",
    "#Another Approach of performing the previous example\n",
    "check=q3(1)(3)\n",
    "print(check)"
   ]
  },
  {
   "cell_type": "code",
   "execution_count": null,
   "metadata": {},
   "outputs": [],
   "source": [
    "# Home Work: \n",
    "\n",
    "# Creating a simple prime calculator\n",
    "\n",
    "#Q-1 Create a function with name isPrime which checks whether a number is a prime number or not. It only need to \n",
    "#return True  or False for any given  input.\n",
    "\n",
    "\n",
    "#Q-2 Create a for loop with a range given by user after taking a number as input from the user. Let the user know \n",
    "# that the input value has to be between 100-200.\n",
    "\n",
    "#Q-3 Call the isPrime function inside the for loop of Q-2 for every value  and save the returned value to a variable \n",
    "# called prime_val.\n",
    "\n",
    "#Q-4 Now if the prime_val is true/false then print the number and it's primeness using an f'string. "
   ]
  },
  {
   "cell_type": "code",
   "execution_count": null,
   "metadata": {},
   "outputs": [],
   "source": [
    "# Q-5 Now for every number that is a prime number, calculate it's square using the square function , \n",
    "#and for all non-primes  caluculate their cube using cube function.\n",
    "# ++++ You are supposed to create another for loop. Take the input again from the user and check the number\n",
    "# using the isPrime function and to save it's value to a variable and on the basis of that variable, check cube or square."
   ]
  },
  {
   "cell_type": "markdown",
   "metadata": {},
   "source": [
    "## Practice Area"
   ]
  },
  {
   "cell_type": "code",
   "execution_count": 23,
   "metadata": {},
   "outputs": [
    {
     "name": "stdout",
     "output_type": "stream",
     "text": [
      "4309392064\n",
      "4309392064\n"
     ]
    }
   ],
   "source": [
    "a=12\n",
    "print(id(a))\n",
    "b=a\n",
    "print(id(b))\n"
   ]
  },
  {
   "cell_type": "code",
   "execution_count": 24,
   "metadata": {},
   "outputs": [
    {
     "name": "stdout",
     "output_type": "stream",
     "text": [
      "13\n",
      "4309392096\n"
     ]
    }
   ],
   "source": [
    "a=a+1\n",
    "print(a)\n",
    "print(id(a))"
   ]
  },
  {
   "cell_type": "code",
   "execution_count": 25,
   "metadata": {},
   "outputs": [
    {
     "name": "stdout",
     "output_type": "stream",
     "text": [
      "4309392000\n",
      "4309392000\n"
     ]
    }
   ],
   "source": [
    "a=10\n",
    "b=10\n",
    "print(id(a))\n",
    "print(id(b))"
   ]
  },
  {
   "cell_type": "code",
   "execution_count": 28,
   "metadata": {},
   "outputs": [
    {
     "name": "stdout",
     "output_type": "stream",
     "text": [
      "0x100dc19e0\n",
      "4309391840\n"
     ]
    }
   ],
   "source": [
    "a=500\n",
    "b=500\n",
    "print(hex(id(a)))\n",
    "print(id(b))"
   ]
  },
  {
   "cell_type": "code",
   "execution_count": null,
   "metadata": {},
   "outputs": [],
   "source": [
    "#Recursion\n",
    "def myname():\n",
    "    #base case\n",
    "    print(\"Python\")\n",
    "    myname()\n",
    "myname()  \n",
    "\n",
    "call=True  \n",
    "while call:\n",
    "    print(\"Python\")\n",
    "    call=False\n",
    "    \n",
    "    \n",
    "    \n",
    "while True:\n",
    "    print(\"Python\")\n",
    "    break\n",
    "    \n",
    "    \n",
    "  \n",
    "    \n",
    "    "
   ]
  },
  {
   "cell_type": "code",
   "execution_count": 30,
   "metadata": {},
   "outputs": [
    {
     "ename": "KeyboardInterrupt",
     "evalue": "",
     "output_type": "error",
     "traceback": [
      "\u001b[0;31m---------------------------------------------------------------------------\u001b[0m",
      "\u001b[0;31mKeyboardInterrupt\u001b[0m                         Traceback (most recent call last)",
      "\u001b[0;32m<ipython-input-30-414c137564b4>\u001b[0m in \u001b[0;36m<module>\u001b[0;34m\u001b[0m\n\u001b[1;32m      1\u001b[0m \u001b[0;32mwhile\u001b[0m \u001b[0;32mTrue\u001b[0m\u001b[0;34m:\u001b[0m\u001b[0;34m\u001b[0m\u001b[0;34m\u001b[0m\u001b[0m\n\u001b[0;32m----> 2\u001b[0;31m     \u001b[0;32mpass\u001b[0m\u001b[0;34m\u001b[0m\u001b[0;34m\u001b[0m\u001b[0m\n\u001b[0m\u001b[1;32m      3\u001b[0m \u001b[0;34m\u001b[0m\u001b[0m\n",
      "\u001b[0;31mKeyboardInterrupt\u001b[0m: "
     ]
    }
   ],
   "source": [
    "# while True:\n",
    "#     pass\n",
    "    "
   ]
  },
  {
   "cell_type": "code",
   "execution_count": null,
   "metadata": {},
   "outputs": [],
   "source": [
    "\n"
   ]
  },
  {
   "cell_type": "code",
   "execution_count": 31,
   "metadata": {},
   "outputs": [
    {
     "name": "stdout",
     "output_type": "stream",
     "text": [
      "11\n",
      "10\n"
     ]
    }
   ],
   "source": [
    "def nameq(a):\n",
    "    a=a+1\n",
    "    return a\n",
    "\n",
    "\n",
    "a=10\n",
    "print(nameq(a))\n",
    "print(a)"
   ]
  },
  {
   "cell_type": "code",
   "execution_count": 38,
   "metadata": {},
   "outputs": [
    {
     "ename": "NameError",
     "evalue": "name 'q' is not defined",
     "output_type": "error",
     "traceback": [
      "\u001b[0;31m---------------------------------------------------------------------------\u001b[0m",
      "\u001b[0;31mNameError\u001b[0m                                 Traceback (most recent call last)",
      "\u001b[0;32m<ipython-input-38-69099306745f>\u001b[0m in \u001b[0;36m<module>\u001b[0;34m\u001b[0m\n\u001b[1;32m      3\u001b[0m     \u001b[0;32mreturn\u001b[0m \u001b[0mq\u001b[0m\u001b[0;34m\u001b[0m\u001b[0;34m\u001b[0m\u001b[0m\n\u001b[1;32m      4\u001b[0m \u001b[0m_as\u001b[0m\u001b[0;34m=\u001b[0m\u001b[0mnameq\u001b[0m\u001b[0;34m(\u001b[0m\u001b[0;36m10\u001b[0m\u001b[0;34m)\u001b[0m\u001b[0;34m\u001b[0m\u001b[0;34m\u001b[0m\u001b[0m\n\u001b[0;32m----> 5\u001b[0;31m \u001b[0mprint\u001b[0m\u001b[0;34m(\u001b[0m\u001b[0mq\u001b[0m\u001b[0;34m)\u001b[0m\u001b[0;34m\u001b[0m\u001b[0;34m\u001b[0m\u001b[0m\n\u001b[0m",
      "\u001b[0;31mNameError\u001b[0m: name 'q' is not defined"
     ]
    }
   ],
   "source": [
    "\n",
    "def nameq(q):\n",
    "    q=q+1\n",
    "    return q\n",
    "_as=nameq(10)\n",
    "print(q)"
   ]
  },
  {
   "cell_type": "code",
   "execution_count": 55,
   "metadata": {},
   "outputs": [
    {
     "name": "stdout",
     "output_type": "stream",
     "text": [
      "24690\n"
     ]
    }
   ],
   "source": [
    "#2+22+222+2222+22222=int\n",
    "val_2=0\n",
    "for i in range(1,6):\n",
    "    val_1=\"2\"*i\n",
    "    val_2=val_2+int(val_1)\n",
    "print(val_2)\n",
    "    \n",
    "    \n",
    "#     print(val_1)\n",
    "#     print(type(val_1))\n",
    "    \n",
    "    "
   ]
  },
  {
   "cell_type": "code",
   "execution_count": 42,
   "metadata": {},
   "outputs": [
    {
     "name": "stdout",
     "output_type": "stream",
     "text": [
      "qq\n"
     ]
    }
   ],
   "source": [
    "print(\"q\"*2)"
   ]
  },
  {
   "cell_type": "code",
   "execution_count": 52,
   "metadata": {},
   "outputs": [
    {
     "name": "stdout",
     "output_type": "stream",
     "text": [
      "40\n"
     ]
    }
   ],
   "source": [
    "\n",
    "z=z+10\n",
    "print(z)"
   ]
  },
  {
   "cell_type": "code",
   "execution_count": null,
   "metadata": {},
   "outputs": [],
   "source": []
  }
 ],
 "metadata": {
  "kernelspec": {
   "display_name": "Python 3",
   "language": "python",
   "name": "python3"
  },
  "language_info": {
   "codemirror_mode": {
    "name": "ipython",
    "version": 3
   },
   "file_extension": ".py",
   "mimetype": "text/x-python",
   "name": "python",
   "nbconvert_exporter": "python",
   "pygments_lexer": "ipython3",
   "version": "3.8.3"
  }
 },
 "nbformat": 4,
 "nbformat_minor": 4
}
