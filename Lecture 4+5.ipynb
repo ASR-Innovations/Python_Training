{
 "cells": [
  {
   "cell_type": "markdown",
   "metadata": {},
   "source": [
    "<h1>Lecture - 4 : Python</h1>"
   ]
  },
  {
   "cell_type": "markdown",
   "metadata": {},
   "source": [
    "for loops<br>\n",
    "In Python, for loops are written like this:<br>\n",
    "for item in iterable_object:<br>\n",
    "     #do something with item\n",
    "An iterable object is some kind of collection of items, for instance: a list of numbers, a<br>\n",
    "string of characters, a range, etc.<br>\n",
    "item is a new variable that can be called whatever you want<br>\n",
    "item references the current position of our iterator within the iterable. It will iterate over<br>\n",
    "(run through) every item of the collection and then go away when it has visited all items"
   ]
  },
  {
   "cell_type": "markdown",
   "metadata": {},
   "source": [
    "<h2>for loops with ranges</h2>"
   ]
  },
  {
   "cell_type": "code",
   "execution_count": 5,
   "metadata": {},
   "outputs": [
    {
     "name": "stdout",
     "output_type": "stream",
     "text": [
      "0\n",
      "1\n",
      "2\n",
      "3\n",
      "4\n",
      "5\n",
      "6\n",
      "7\n"
     ]
    }
   ],
   "source": [
    "var_1=2\n",
    "for number in range(8):\n",
    "    print(number)"
   ]
  },
  {
   "cell_type": "code",
   "execution_count": 69,
   "metadata": {},
   "outputs": [
    {
     "name": "stdout",
     "output_type": "stream",
     "text": [
      "1\n",
      "2\n"
     ]
    }
   ],
   "source": [
    "# range(start,end,step)\n",
    "range_new=range(4,15)\n",
    "name=\"Rohit\"\n",
    "list_new=[1,2,3,\"Rohit\"]#arrays is somewhat like lists in python\n",
    "\n",
    "for i in list_new:\n",
    "    print(i)\n",
    "    if i==2:\n",
    "        break\n",
    "else:\n",
    "    print(\"This is amazing\")"
   ]
  },
  {
   "cell_type": "code",
   "execution_count": 14,
   "metadata": {},
   "outputs": [
    {
     "name": "stdout",
     "output_type": "stream",
     "text": [
      "[1, 2, 3, 4]\n"
     ]
    }
   ],
   "source": [
    "list_new=[1,2,3,\"Rohit\"]\n",
    "list_new[3]=4\n",
    "print(list_new)"
   ]
  },
  {
   "cell_type": "code",
   "execution_count": 12,
   "metadata": {
    "scrolled": true
   },
   "outputs": [
    {
     "name": "stdout",
     "output_type": "stream",
     "text": [
      "Rohit R. Prasad\n"
     ]
    }
   ],
   "source": [
    "# # Output // Returning\n",
    "# name=\"Rohit R. Prasad\"\n",
    "# # type(name)\n",
    "# # len_of_string=len(name)\n",
    "# #Way 1:\n",
    "\n",
    "# for i in range(len(name)):\n",
    "    \n",
    "# #     print(name[i])\n",
    "#     print(f\"Index of {name[i]} is {i}  and it's position is {i+1}\")\n",
    "    \n",
    "# print(\"------\")    \n",
    "# name[5]=\"_\"\n",
    "name1=\"Rohit R.\"\n",
    "name2=\" Prasad\"\n",
    "name3=name1+name2\n",
    "print(name3)\n",
    "\n",
    "\n",
    "\n",
    "\n",
    "# for i in range(len(name)):\n",
    "    \n",
    "# #     print(name[i])\n",
    "#     print(f\"Index of {name[i]} is {i}  and it's position is {i+1}\")"
   ]
  },
  {
   "cell_type": "code",
   "execution_count": null,
   "metadata": {},
   "outputs": [],
   "source": []
  },
  {
   "cell_type": "code",
   "execution_count": null,
   "metadata": {},
   "outputs": [],
   "source": [
    "for(int j =0;i<=some_value;i=i+2){\n",
    "    print(name[i])\n",
    "    #\n",
    "    #\n",
    "}"
   ]
  },
  {
   "cell_type": "code",
   "execution_count": 12,
   "metadata": {},
   "outputs": [
    {
     "name": "stdout",
     "output_type": "stream",
     "text": [
      "3\n",
      "4\n"
     ]
    }
   ],
   "source": [
    "print(7//2)\n",
    "print(round(7/2))"
   ]
  },
  {
   "cell_type": "code",
   "execution_count": 10,
   "metadata": {},
   "outputs": [
    {
     "data": {
      "text/plain": [
       "1"
      ]
     },
     "execution_count": 10,
     "metadata": {},
     "output_type": "execute_result"
    }
   ],
   "source": [
    "3//2"
   ]
  },
  {
   "cell_type": "markdown",
   "metadata": {},
   "source": [
    "<h2>ranges</h2>"
   ]
  },
  {
   "cell_type": "markdown",
   "metadata": {},
   "source": [
    "Python ranges come in multiple forms:\n",
    "\n"
   ]
  },
  {
   "cell_type": "markdown",
   "metadata": {},
   "source": [
    "range(7) gives you integers from 0 thru 6 ( shown)\n",
    "\n",
    "Count starts at 0 and is exclusive"
   ]
  },
  {
   "cell_type": "markdown",
   "metadata": {},
   "source": [
    "range(1, 8) will give you integers from 1 to 7\n",
    "\n",
    "Two parameters are (start, end)"
   ]
  },
  {
   "cell_type": "markdown",
   "metadata": {},
   "source": [
    "range(1, 10, 2)  will give you odds from 1 to 10<br>\n",
    "range(7, 0, -1)  will give you integers from 7 to 1\n",
    "\n",
    "Third param is called the \"step\", meaning how many to skip. Also, which way to count, up + or down"
   ]
  },
  {
   "cell_type": "code",
   "execution_count": 46,
   "metadata": {},
   "outputs": [
    {
     "name": "stdout",
     "output_type": "stream",
     "text": [
      "[1, 2, 3, 4, 5, 6, 7, 8, 9]\n",
      "[10, 9, 8, 7, 6, 5, 4, 3, 2]\n",
      "[1, 4, 7]\n"
     ]
    }
   ],
   "source": [
    "print(list(range(1,10,1)))\n",
    "print(list(range(10,1,-1)))\n",
    "print(list(range(1,10,3)))"
   ]
  },
  {
   "cell_type": "code",
   "execution_count": 46,
   "metadata": {
    "scrolled": true
   },
   "outputs": [
    {
     "name": "stdout",
     "output_type": "stream",
     "text": [
      "hsuyA\n",
      "Ayu\n",
      "hsu\n",
      "Ay\n",
      "hsuAy\n",
      "h\n",
      "h\n",
      "s\n"
     ]
    },
    {
     "ename": "IndexError",
     "evalue": "string index out of range",
     "output_type": "error",
     "traceback": [
      "\u001b[0;31m---------------------------------------------------------------------------\u001b[0m",
      "\u001b[0;31mIndexError\u001b[0m                                Traceback (most recent call last)",
      "\u001b[0;32m<ipython-input-46-9760584caf77>\u001b[0m in \u001b[0;36m<module>\u001b[0;34m\u001b[0m\n\u001b[1;32m     12\u001b[0m \u001b[0mprint\u001b[0m\u001b[0;34m(\u001b[0m\u001b[0mname\u001b[0m\u001b[0;34m[\u001b[0m\u001b[0;34m-\u001b[0m\u001b[0;36m1\u001b[0m\u001b[0;34m]\u001b[0m\u001b[0;34m)\u001b[0m\u001b[0;34m\u001b[0m\u001b[0;34m\u001b[0m\u001b[0m\n\u001b[1;32m     13\u001b[0m \u001b[0mprint\u001b[0m\u001b[0;34m(\u001b[0m\u001b[0mname\u001b[0m\u001b[0;34m[\u001b[0m\u001b[0;34m-\u001b[0m\u001b[0;36m2\u001b[0m\u001b[0;34m]\u001b[0m\u001b[0;34m)\u001b[0m\u001b[0;34m\u001b[0m\u001b[0;34m\u001b[0m\u001b[0m\n\u001b[0;32m---> 14\u001b[0;31m \u001b[0mprint\u001b[0m\u001b[0;34m(\u001b[0m\u001b[0mname\u001b[0m\u001b[0;34m[\u001b[0m\u001b[0;36m6\u001b[0m\u001b[0;34m]\u001b[0m\u001b[0;34m)\u001b[0m\u001b[0;34m\u001b[0m\u001b[0;34m\u001b[0m\u001b[0m\n\u001b[0m\u001b[1;32m     15\u001b[0m \u001b[0;34m\u001b[0m\u001b[0m\n",
      "\u001b[0;31mIndexError\u001b[0m: string index out of range"
     ]
    }
   ],
   "source": [
    "name=\"Ayush\"\n",
    "# name=\"Ayssh\"\n",
    "      \n",
    "print(name[::-1])\n",
    "\n",
    "print(name[0:3:1])\n",
    "print(name[4:1:-1])\n",
    "print(name[0:2])\n",
    "# print(name[2])\n",
    "print(name[4:1:-1]+name[0:2])\n",
    "print(name[4])\n",
    "print(name[-1])\n",
    "print(name[-2])\n",
    "print(name[6])\n",
    "\n"
   ]
  },
  {
   "cell_type": "code",
   "execution_count": 34,
   "metadata": {},
   "outputs": [
    {
     "ename": "TypeError",
     "evalue": "'int' object is not subscriptable",
     "output_type": "error",
     "traceback": [
      "\u001b[0;31m---------------------------------------------------------------------------\u001b[0m",
      "\u001b[0;31mTypeError\u001b[0m                                 Traceback (most recent call last)",
      "\u001b[0;32m<ipython-input-34-6e50da7d9a9b>\u001b[0m in \u001b[0;36m<module>\u001b[0;34m\u001b[0m\n\u001b[1;32m      1\u001b[0m \u001b[0mvl\u001b[0m\u001b[0;34m=\u001b[0m\u001b[0mint\u001b[0m\u001b[0;34m(\u001b[0m\u001b[0;36m567\u001b[0m\u001b[0;34m)\u001b[0m\u001b[0;34m\u001b[0m\u001b[0;34m\u001b[0m\u001b[0m\n\u001b[0;32m----> 2\u001b[0;31m \u001b[0mprint\u001b[0m\u001b[0;34m(\u001b[0m\u001b[0mvl\u001b[0m\u001b[0;34m[\u001b[0m\u001b[0;36m1\u001b[0m\u001b[0;34m]\u001b[0m\u001b[0;34m)\u001b[0m\u001b[0;34m\u001b[0m\u001b[0;34m\u001b[0m\u001b[0m\n\u001b[0m",
      "\u001b[0;31mTypeError\u001b[0m: 'int' object is not subscriptable"
     ]
    }
   ],
   "source": [
    "vl=int(567)\n",
    "print(vl[0])"
   ]
  },
  {
   "cell_type": "code",
   "execution_count": 67,
   "metadata": {},
   "outputs": [
    {
     "name": "stdout",
     "output_type": "stream",
     "text": [
      "h A y u s\n",
      "hAyus  \n",
      "hAyus \n"
     ]
    },
    {
     "data": {
      "text/plain": [
       "{'yu'}"
      ]
     },
     "execution_count": 67,
     "metadata": {},
     "output_type": "execute_result"
    }
   ],
   "source": [
    "name=\"Ayush\" #hAyus\n",
    "\n",
    "print(name[4],name[0],name[1],name[2],name[3])\n",
    "# print(name[0])\n",
    "# print(name[1])\n",
    "# print(name[2])\n",
    "# print(name[3])\n",
    "print(f'{name[4]}{name[0]}{name[1]}{name[2]}{name[3]}  ')\n",
    "print(f'{name[4]}{name[0]}{name[1:4]} ')\n",
    "{name[1:3]}"
   ]
  },
  {
   "cell_type": "code",
   "execution_count": 58,
   "metadata": {},
   "outputs": [
    {
     "name": "stdout",
     "output_type": "stream",
     "text": [
      "Hello, My age is 23\n",
      "Hello, My age is  23\n",
      "Hello , My age is 23 23\n"
     ]
    }
   ],
   "source": [
    "#fstring\n",
    "var=23\n",
    "print(f'Hello, My age is {var}') \n",
    "print(\"Hello, My age is \",var) \n",
    "print(\"Hello , My age is {} {}\".format(var,var))"
   ]
  },
  {
   "cell_type": "markdown",
   "metadata": {},
   "source": [
    "<h2>indices or index</h2>\n"
   ]
  },
  {
   "cell_type": "code",
   "execution_count": 2,
   "metadata": {},
   "outputs": [
    {
     "name": "stdout",
     "output_type": "stream",
     "text": [
      "Hello\n"
     ]
    }
   ],
   "source": [
    "#True =1 , False =0\n",
    "if True==1:\n",
    "    print(\"Hello\")\n",
    "    "
   ]
  },
  {
   "cell_type": "code",
   "execution_count": 18,
   "metadata": {},
   "outputs": [
    {
     "name": "stdout",
     "output_type": "stream",
     "text": [
      "[1, 2, 3, 4, 5, 6, 7, 8, 9, 10, 11, 12, 13, 14, 15, 16, 17, 18, 19]\n"
     ]
    }
   ],
   "source": [
    "#slices[start:end:step]\n",
    "# print(435[1:20:1])\n",
    "print(list(range(1,20,1)))"
   ]
  },
  {
   "cell_type": "code",
   "execution_count": 28,
   "metadata": {},
   "outputs": [
    {
     "name": "stdout",
     "output_type": "stream",
     "text": [
      "<class 'str'>\n",
      "<class 'str'>\n",
      "6\n",
      "4\n"
     ]
    }
   ],
   "source": [
    "num_1=str(456)\n",
    "num_2='456'\n",
    "print(type(num_1))\n",
    "print(type(num_2))\n",
    "print(num_1[2])\n",
    "\n",
    "print(num_1[0:2:2])\n",
    "\n"
   ]
  },
  {
   "cell_type": "markdown",
   "metadata": {},
   "source": [
    "<h2>Logical and , or , not</h2>"
   ]
  },
  {
   "cell_type": "markdown",
   "metadata": {},
   "source": [
    "<h2>Slicing</h2>"
   ]
  },
  {
   "cell_type": "code",
   "execution_count": 60,
   "metadata": {},
   "outputs": [
    {
     "name": "stdout",
     "output_type": "stream",
     "text": [
      "-------and-------\n",
      "a<10\n",
      "-------or-------\n",
      "a>=10\n",
      "-------check-------\n",
      "not ok\n",
      "False\n"
     ]
    }
   ],
   "source": [
    "# if condition is true:\n",
    "#     print something\n",
    "# else:\n",
    "#     print something else\n",
    "\n",
    "\n",
    "# a=10\n",
    "# if a>10 :\n",
    "#     print(\"a>10\")\n",
    "# # elif a==10:\n",
    "# #     print(\"a=10\")\n",
    "# else:\n",
    "#     print(\"a<10\")\n",
    "\n",
    "print(\"-------and-------\")   \n",
    "   \n",
    "if a>10 and a==10 :\n",
    "    print(\"a>=10\")\n",
    "\n",
    "else:\n",
    "    print(\"a<10\")    \n",
    "    \n",
    "    \n",
    "print(\"-------or-------\") \n",
    "\n",
    "    \n",
    "if a>10 or a==10 :\n",
    "    print(\"a>=10\")\n",
    "\n",
    "else:\n",
    "    print(\"a<10\") \n",
    "    \n",
    "    \n",
    "# if number in range(1,20):\n",
    "print(\"-------check-------\")   \n",
    "number=100    \n",
    "   \n",
    "\n",
    "    \n",
    "if (number>100 or  number==100) and number<500 and number=='positive':\n",
    "    print(\"ok\")\n",
    "else:\n",
    "    print(\"not ok\")\n",
    "    \n",
    "    \n",
    "print(\"positive\"==\"negative\")    \n",
    "   \n",
    "    "
   ]
  },
  {
   "cell_type": "markdown",
   "metadata": {},
   "source": [
    "<h2>EXERCISE</h2>\n",
    "Loop through numbers 1-20<br>\n",
    "\n",
    "for 4 and 13, print \"x is unlucky\"<br>\n",
    "for even numbers, print \"x is even\"<br>\n",
    "for odd numbers, print \"x is odd\"<br>\n"
   ]
  },
  {
   "cell_type": "markdown",
   "metadata": {},
   "source": [
    "<h2>while loops</h2>\n",
    "\n",
    "We can also iterate using a while loop, which has a different format:<br>\n",
    "\n",
    "while im_tired:<br>\n",
    "    # seek caffeine\n",
    "while loops continue to execute while a certain condition is truthy, and will end when they become falsy.<br>\n"
   ]
  },
  {
   "cell_type": "code",
   "execution_count": 3,
   "metadata": {},
   "outputs": [
    {
     "name": "stdout",
     "output_type": "stream",
     "text": [
      "Ah ah ah, you didn't say the magic word: please\n"
     ]
    }
   ],
   "source": [
    "user_response = None\n",
    "while user_response != \"please\":\n",
    "    user_response = input(\"Ah ah ah, you didn't say the magic word: \")\n"
   ]
  },
  {
   "cell_type": "markdown",
   "metadata": {},
   "source": [
    "while loops require more careful setup than for loops, since you have to specify the termination conditions manually.\n",
    "\n",
    "Be careful! If the condition doesn't become false at some point, your loop will continue forever!"
   ]
  },
  {
   "cell_type": "markdown",
   "metadata": {},
   "source": [
    "while loop exercise\n",
    "\n",
    "Print the following beautiful art using both a for loop and a while loop:"
   ]
  },
  {
   "cell_type": "markdown",
   "metadata": {},
   "source": [
    "😀<br>\n",
    "😀😀<br>\n",
    "😀😀😀<br>\n",
    "😀😀😀😀<br>\n",
    "😀😀😀😀😀<br>\n",
    "😀😀😀😀😀😀<br>\n",
    "😀😀😀😀😀😀😀<br>\n",
    "😀😀😀😀😀😀😀😀<br>\n",
    "😀😀😀😀😀😀😀😀😀<br>\n"
   ]
  },
  {
   "cell_type": "code",
   "execution_count": 18,
   "metadata": {},
   "outputs": [
    {
     "name": "stdout",
     "output_type": "stream",
     "text": [
      "😀😀\n"
     ]
    }
   ],
   "source": [
    "print(\"\\U0001f600\\U0001f600\")"
   ]
  },
  {
   "cell_type": "markdown",
   "metadata": {},
   "source": [
    "<h2>Controlled Exit</h2>\n",
    "\n",
    "The keyword break gives us the ability to exit out of while loops whenever we want:\n"
   ]
  },
  {
   "cell_type": "code",
   "execution_count": 6,
   "metadata": {},
   "outputs": [
    {
     "name": "stdout",
     "output_type": "stream",
     "text": [
      "Type 'exit' to exit: exit\n"
     ]
    }
   ],
   "source": [
    "while True:\n",
    "    command = input(\"Type 'exit' to exit: \")\n",
    "    if (command == \"exit\"):\n",
    "        break"
   ]
  },
  {
   "cell_type": "markdown",
   "metadata": {},
   "source": [
    "We can also use it to end for loops early:\n"
   ]
  },
  {
   "cell_type": "code",
   "execution_count": 7,
   "metadata": {},
   "outputs": [
    {
     "name": "stdout",
     "output_type": "stream",
     "text": [
      "1\n",
      "2\n",
      "3\n"
     ]
    }
   ],
   "source": [
    "for x in range(1, 101):\n",
    "    print(x)\n",
    "    if x == 3:\n",
    "        break"
   ]
  },
  {
   "cell_type": "markdown",
   "metadata": {},
   "source": [
    "<h2>ADDING A BREAK</h2>"
   ]
  },
  {
   "cell_type": "code",
   "execution_count": 8,
   "metadata": {},
   "outputs": [
    {
     "name": "stdout",
     "output_type": "stream",
     "text": [
      "How many times do I have to tell you? 100\n",
      "CLEAN UP YOUR ROOM!\n",
      "CLEAN UP YOUR ROOM!\n",
      "CLEAN UP YOUR ROOM!\n",
      "CLEAN UP YOUR ROOM!\n",
      "CLEAN UP YOUR ROOM!\n",
      "do you even listen anymore?\n"
     ]
    }
   ],
   "source": [
    "times = int(input(\"How many times do I have to tell you? \"))\n",
    "\n",
    "for time in range(times):\n",
    "\tprint(\"CLEAN UP YOUR ROOM!\")\n",
    "\tif time >= 4: \n",
    "\t\tprint(\"do you even listen anymore?\")\n",
    "    break\n",
    "\n",
    "        "
   ]
  },
  {
   "cell_type": "markdown",
   "metadata": {},
   "source": [
    "<h2>GUESSING GAME\n",
    "</h2>\n",
    "(Mini Project)"
   ]
  },
  {
   "cell_type": "markdown",
   "metadata": {},
   "source": [
    "Guess a number between 1 and 10: 1<br>\n",
    "Too low, try again!<br>\n",
    "Guess a number between 1 and 10: 10<br>\n",
    "Too high, try again!<br>\n",
    "Guess a number between 1 and 10: 22<br>\n",
    "Too high, try again!<br>\n",
    "Guess a number between 1 and 10: 8<br>\n",
    "Too high, try again!<br>\n",
    "Guess a number between 1 and 10: 7<br>\n",
    "Too high, try again!<br>\n",
    "Guess a number between 1 and 10: 6<br>\n",
    "Too high, try again!<br>\n",
    "Guess a number between 1 and 10: 5<br>\n",
    "You guessed it! You won!<br>\n",
    "Do you want to keep playing? (y/n) y<br>"
   ]
  },
  {
   "cell_type": "markdown",
   "metadata": {},
   "source": [
    "<h2>continue statement</h2>\n",
    "\n",
    "\n",
    "The continue statement in Python returns the control to the beginning of the current loop. When encountered, the loop starts next iteration without executing the remaining statements in the current iteration.<br>\n",
    "\n",
    "The continue statement can be used in both while and for loops."
   ]
  },
  {
   "cell_type": "code",
   "execution_count": 11,
   "metadata": {},
   "outputs": [
    {
     "name": "stdout",
     "output_type": "stream",
     "text": [
      "Current Letter : P\n",
      "Current Letter : y\n",
      "Current Letter : t\n",
      "Current Letter : o\n",
      "Current Letter : n\n",
      "Current variable value : 9\n",
      "Current variable value : 8\n",
      "Current variable value : 7\n",
      "Current variable value : 6\n",
      "Current variable value : 4\n",
      "Current variable value : 3\n",
      "Current variable value : 2\n",
      "Current variable value : 1\n",
      "Current variable value : 0\n",
      "Good bye!\n"
     ]
    }
   ],
   "source": [
    "for letter in 'Python':     # First Example\n",
    "   if letter == 'h':\n",
    "      continue\n",
    "   print ('Current Letter :', letter)\n",
    "\n",
    "var = 10                    # Second Example\n",
    "while var > 0:              \n",
    "   var = var -1\n",
    "   if var == 5:\n",
    "      continue\n",
    "   print ('Current variable value :', var)\n",
    "print (\"Good bye!\")"
   ]
  },
  {
   "cell_type": "code",
   "execution_count": null,
   "metadata": {},
   "outputs": [],
   "source": []
  }
 ],
 "metadata": {
  "kernelspec": {
   "display_name": "Python 3",
   "language": "python",
   "name": "python3"
  },
  "language_info": {
   "codemirror_mode": {
    "name": "ipython",
    "version": 3
   },
   "file_extension": ".py",
   "mimetype": "text/x-python",
   "name": "python",
   "nbconvert_exporter": "python",
   "pygments_lexer": "ipython3",
   "version": "3.8.3"
  }
 },
 "nbformat": 4,
 "nbformat_minor": 4
}
